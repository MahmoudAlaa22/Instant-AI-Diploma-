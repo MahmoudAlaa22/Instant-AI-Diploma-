{
 "cells": [
  {
   "cell_type": "markdown",
   "metadata": {},
   "source": [
    "** How to simulate do..while loop in Python?"
   ]
  },
  {
   "cell_type": "code",
   "execution_count": null,
   "metadata": {},
   "outputs": [],
   "source": [
    "def do_while(condition):\n",
    "    condition = False\n",
    "    while True:\n",
    "        if condition:\n",
    "            break"
   ]
  }
 ],
 "metadata": {
  "kernelspec": {
   "display_name": "Python 3",
   "language": "python",
   "name": "python3"
  },
  "language_info": {
   "name": "python",
   "version": "3.12.2"
  }
 },
 "nbformat": 4,
 "nbformat_minor": 2
}
