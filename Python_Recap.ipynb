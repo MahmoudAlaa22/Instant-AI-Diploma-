{
  "cells": [
    {
      "cell_type": "markdown",
      "metadata": {
        "id": "7eUzJbnnKH2H"
      },
      "source": [
        "# Basics"
      ]
    },
    {
      "cell_type": "code",
      "execution_count": 6,
      "metadata": {
        "colab": {
          "base_uri": "https://localhost:8080/"
        },
        "id": "t_9xXJ5orx-p",
        "outputId": "972847fe-3ba2-45c5-bec5-aa6d0589dea6"
      },
      "outputs": [
        {
          "name": "stdout",
          "output_type": "stream",
          "text": [
            "Hello World\n"
          ]
        }
      ],
      "source": [
        "print('Hello World')"
      ]
    },
    {
      "cell_type": "code",
      "execution_count": 7,
      "metadata": {
        "colab": {
          "base_uri": "https://localhost:8080/"
        },
        "id": "RN9-FqF9szdR",
        "outputId": "ce57a44b-72cc-4f7e-eb63-0c5fa5b261d6"
      },
      "outputs": [
        {
          "name": "stdout",
          "output_type": "stream",
          "text": [
            "Hello World\n"
          ]
        }
      ],
      "source": [
        "print('Hello', 'World')"
      ]
    },
    {
      "cell_type": "code",
      "execution_count": 8,
      "metadata": {
        "colab": {
          "base_uri": "https://localhost:8080/"
        },
        "id": "8iaSYiBvs2ax",
        "outputId": "24815b75-602d-42f3-c004-bb7ea2e37d2d"
      },
      "outputs": [
        {
          "name": "stdout",
          "output_type": "stream",
          "text": [
            "Hello,World\n"
          ]
        }
      ],
      "source": [
        "print('Hello', 'World', sep=',')"
      ]
    },
    {
      "cell_type": "code",
      "execution_count": 9,
      "metadata": {
        "colab": {
          "base_uri": "https://localhost:8080/"
        },
        "id": "NurvsyZRs71X",
        "outputId": "13b41e67-f4b4-4a4d-b6ef-32d68d77ec8a"
      },
      "outputs": [
        {
          "name": "stdout",
          "output_type": "stream",
          "text": [
            "Hello\n",
            "World\n"
          ]
        }
      ],
      "source": [
        "print('Hello')\n",
        "print('World')"
      ]
    },
    {
      "cell_type": "code",
      "execution_count": 10,
      "metadata": {
        "colab": {
          "base_uri": "https://localhost:8080/"
        },
        "id": "RvKhnWP_s_B0",
        "outputId": "078ba9f5-a8f4-4dbf-a244-26f4761c0d8d"
      },
      "outputs": [
        {
          "name": "stdout",
          "output_type": "stream",
          "text": [
            "Hello/World\n"
          ]
        }
      ],
      "source": [
        "print('Hello', end='/')\n",
        "print('World')"
      ]
    },
    {
      "cell_type": "markdown",
      "metadata": {
        "id": "M9PwcfeBtSME"
      },
      "source": [
        "------------------------------------------------------"
      ]
    },
    {
      "cell_type": "code",
      "execution_count": 11,
      "metadata": {
        "colab": {
          "base_uri": "https://localhost:8080/"
        },
        "id": "d9iNp1K_tFcP",
        "outputId": "fd132c66-7855-4925-8f49-b98737183fce"
      },
      "outputs": [
        {
          "name": "stdout",
          "output_type": "stream",
          "text": [
            "3\n"
          ]
        }
      ],
      "source": [
        "print(3)"
      ]
    },
    {
      "cell_type": "code",
      "execution_count": 12,
      "metadata": {
        "colab": {
          "base_uri": "https://localhost:8080/"
        },
        "id": "ppYpFoRMtYJv",
        "outputId": "ade76158-a443-4cd1-e4e1-efd8cb2be453"
      },
      "outputs": [
        {
          "name": "stdout",
          "output_type": "stream",
          "text": [
            "9\n"
          ]
        }
      ],
      "source": [
        "print(3 + 6)"
      ]
    },
    {
      "cell_type": "markdown",
      "metadata": {
        "id": "iduwJB9ztg0d"
      },
      "source": [
        "# Datatypes\n",
        "1. Text Type:\tstr\n",
        "2. Numeric Types:\tint, float, complex\n",
        "3. Boolean Type:\tbool\n",
        "4. Sequence Types:\tlist, tuple\n",
        "5. Mapping Type:\tdict\n",
        "6. None Type:\tNoneType"
      ]
    },
    {
      "cell_type": "code",
      "execution_count": 61,
      "metadata": {
        "colab": {
          "base_uri": "https://localhost:8080/"
        },
        "id": "S6xMPAOutZsP",
        "outputId": "9a3971cb-f542-4a68-f734-82ccc457dbb4"
      },
      "outputs": [
        {
          "name": "stdout",
          "output_type": "stream",
          "text": [
            "python\n",
            "C++\n",
            "I Love Programming.\n",
            "I Love Python and C++.\n",
            "I Study Data Science and AI.\n",
            "\n"
          ]
        }
      ],
      "source": [
        "# Text\n",
        "s1 = 'python'\n",
        "s2 = \"C++\"\n",
        "s3 = \"\"\"I Love Programming.\n",
        "I Love Python and C++.\n",
        "I Study Data Science and AI.\n",
        "\"\"\"\n",
        "print(s1, s2, s3, sep='\\n')"
      ]
    },
    {
      "cell_type": "code",
      "execution_count": 62,
      "metadata": {
        "colab": {
          "base_uri": "https://localhost:8080/"
        },
        "id": "Y2TWXPp3uRUt",
        "outputId": "23c0420a-3468-4635-9568-321264b847b9"
      },
      "outputs": [
        {
          "name": "stdout",
          "output_type": "stream",
          "text": [
            "5\n",
            "3.7\n",
            "1j\n"
          ]
        }
      ],
      "source": [
        "# Numeric\n",
        "n1 = 5\n",
        "n2 = 3.7\n",
        "n3 = 1j\n",
        "\n",
        "print(n1, n2, n3, sep='\\n')"
      ]
    },
    {
      "cell_type": "code",
      "execution_count": 63,
      "metadata": {
        "colab": {
          "base_uri": "https://localhost:8080/"
        },
        "id": "H25JgLwquvHe",
        "outputId": "97c3938c-c88a-4892-b029-3b3da486210c"
      },
      "outputs": [
        {
          "name": "stdout",
          "output_type": "stream",
          "text": [
            "True\n",
            "False\n"
          ]
        }
      ],
      "source": [
        "# Boolean\n",
        "b1 = True\n",
        "b2 = False\n",
        "\n",
        "print(b1, b2, sep='\\n')"
      ]
    },
    {
      "cell_type": "code",
      "execution_count": 64,
      "metadata": {
        "colab": {
          "base_uri": "https://localhost:8080/"
        },
        "id": "q4hAJLERvFec",
        "outputId": "da477298-6d08-40cc-abb4-7d7489f53cc3"
      },
      "outputs": [
        {
          "name": "stdout",
          "output_type": "stream",
          "text": [
            "['a', 3, True]\n",
            "('a', 2)\n"
          ]
        }
      ],
      "source": [
        "# Sequences\n",
        "l = ['a', 3, True]\n",
        "t = ('a', 2)\n",
        "print(l, t, sep='\\n')"
      ]
    },
    {
      "cell_type": "code",
      "execution_count": 65,
      "metadata": {
        "colab": {
          "base_uri": "https://localhost:8080/"
        },
        "id": "bdu7SopgvzXe",
        "outputId": "bf09d85a-dbdf-452e-a106-0090d609f4ca"
      },
      "outputs": [
        {
          "name": "stdout",
          "output_type": "stream",
          "text": [
            "{'01': 'python', '02': 'c++'}\n"
          ]
        }
      ],
      "source": [
        "# mapping\n",
        "d = {'01':'python', '02':'c++'}\n",
        "print(d)"
      ]
    },
    {
      "cell_type": "code",
      "execution_count": 66,
      "metadata": {
        "colab": {
          "base_uri": "https://localhost:8080/"
        },
        "id": "EPxX02MLv_kj",
        "outputId": "54191cdc-dd95-4d46-9354-2f59b5ab65f3"
      },
      "outputs": [
        {
          "name": "stdout",
          "output_type": "stream",
          "text": [
            "None\n"
          ]
        }
      ],
      "source": [
        "# Nonetype\n",
        "N = None\n",
        "print(N)"
      ]
    },
    {
      "cell_type": "code",
      "execution_count": 67,
      "metadata": {
        "colab": {
          "base_uri": "https://localhost:8080/"
        },
        "id": "7q_t7UZhwP5V",
        "outputId": "79f0ba8d-2e56-4768-cf83-7cd0dd524e98"
      },
      "outputs": [
        {
          "name": "stdout",
          "output_type": "stream",
          "text": [
            "<class 'str'>\n",
            "<class 'int'>\n",
            "<class 'bool'>\n",
            "<class 'list'>\n",
            "<class 'tuple'>\n",
            "<class 'dict'>\n",
            "<class 'NoneType'>\n"
          ]
        }
      ],
      "source": [
        "print(type(s1), type(n1), type(b1), type(l), type(t), type(d), type(N), sep='\\n')"
      ]
    },
    {
      "cell_type": "markdown",
      "metadata": {
        "id": "xrg9ml_3wr-v"
      },
      "source": [
        "--------------------------------------------------------------------------------"
      ]
    },
    {
      "cell_type": "markdown",
      "metadata": {
        "id": "ACyqw0dxww3Q"
      },
      "source": [
        "# Strings"
      ]
    },
    {
      "cell_type": "code",
      "execution_count": 27,
      "metadata": {
        "id": "mD5X9h02wUxa"
      },
      "outputs": [],
      "source": [
        "S = 'I Love Programming'"
      ]
    },
    {
      "cell_type": "code",
      "execution_count": 36,
      "metadata": {
        "colab": {
          "base_uri": "https://localhost:8080/"
        },
        "id": "3tfOtStkySKj",
        "outputId": "b0ac225c-d68e-4ad2-9dad-a17c19f43527"
      },
      "outputs": [
        {
          "name": "stdout",
          "output_type": "stream",
          "text": [
            "18\n"
          ]
        }
      ],
      "source": [
        "print(len(S))"
      ]
    },
    {
      "cell_type": "code",
      "execution_count": 29,
      "metadata": {
        "colab": {
          "base_uri": "https://localhost:8080/"
        },
        "id": "y9Ow3ud6xc8B",
        "outputId": "e7b813a6-09c5-4425-f363-089c693f8aa1"
      },
      "outputs": [
        {
          "name": "stdout",
          "output_type": "stream",
          "text": [
            "Love\n"
          ]
        }
      ],
      "source": [
        "# Slicing\n",
        "print(S[2:6])"
      ]
    },
    {
      "cell_type": "code",
      "execution_count": 31,
      "metadata": {
        "colab": {
          "base_uri": "https://localhost:8080/"
        },
        "id": "8zYVK6KwxoIo",
        "outputId": "3f08cb56-a350-4bee-b0e4-225b9ce620df"
      },
      "outputs": [
        {
          "name": "stdout",
          "output_type": "stream",
          "text": [
            "I love programming\n"
          ]
        }
      ],
      "source": [
        "print(S.capitalize())"
      ]
    },
    {
      "cell_type": "code",
      "execution_count": 32,
      "metadata": {
        "colab": {
          "base_uri": "https://localhost:8080/"
        },
        "id": "gJUwwXYUyA_J",
        "outputId": "7e16c992-4d98-4631-a697-dc14f56169e8"
      },
      "outputs": [
        {
          "name": "stdout",
          "output_type": "stream",
          "text": [
            "I LOVE PROGRAMMING\n"
          ]
        }
      ],
      "source": [
        "print(S.upper())"
      ]
    },
    {
      "cell_type": "code",
      "execution_count": 33,
      "metadata": {
        "colab": {
          "base_uri": "https://localhost:8080/"
        },
        "id": "IMGGKU5kyJ-7",
        "outputId": "1429fed0-75d6-464a-b403-5953ca131def"
      },
      "outputs": [
        {
          "name": "stdout",
          "output_type": "stream",
          "text": [
            "i love programming\n"
          ]
        }
      ],
      "source": [
        "print(S.lower())"
      ]
    },
    {
      "cell_type": "code",
      "execution_count": 35,
      "metadata": {
        "colab": {
          "base_uri": "https://localhost:8080/"
        },
        "id": "DtX5xjLPyMku",
        "outputId": "b1affaca-8af2-402f-ec6b-81c327ba3ef0"
      },
      "outputs": [
        {
          "name": "stdout",
          "output_type": "stream",
          "text": [
            "2\n"
          ]
        }
      ],
      "source": [
        "print(S.count('m'))"
      ]
    },
    {
      "cell_type": "code",
      "execution_count": 38,
      "metadata": {
        "colab": {
          "base_uri": "https://localhost:8080/"
        },
        "id": "ZaHG8gU1yPrz",
        "outputId": "7048c807-4d8e-4ee2-d03b-e0b0b80b5be1"
      },
      "outputs": [
        {
          "name": "stdout",
          "output_type": "stream",
          "text": [
            "3\n"
          ]
        }
      ],
      "source": [
        "print(S.find('o'))"
      ]
    },
    {
      "cell_type": "code",
      "execution_count": 40,
      "metadata": {
        "colab": {
          "base_uri": "https://localhost:8080/"
        },
        "id": "T8lbuU2-ywwa",
        "outputId": "61fc0440-bd68-49e4-d011-d7664f153db2"
      },
      "outputs": [
        {
          "name": "stdout",
          "output_type": "stream",
          "text": [
            "I Love Progralling\n"
          ]
        }
      ],
      "source": [
        "print(S.replace('m', 'l'))"
      ]
    },
    {
      "cell_type": "code",
      "execution_count": 68,
      "metadata": {
        "colab": {
          "base_uri": "https://localhost:8080/"
        },
        "id": "lBULpFHV4C5p",
        "outputId": "5890d878-e9f7-4d8d-a079-5204dd894fda"
      },
      "outputs": [
        {
          "name": "stdout",
          "output_type": "stream",
          "text": [
            "True\n"
          ]
        }
      ],
      "source": [
        "txt = \"The best thing in the life is programming\"\n",
        "print(\"life\" in txt)"
      ]
    },
    {
      "cell_type": "code",
      "execution_count": 59,
      "metadata": {
        "colab": {
          "base_uri": "https://localhost:8080/"
        },
        "id": "Vc8p-8JZ4pwD",
        "outputId": "55d894fe-ae30-43ec-c33c-732ce0c6bcd9"
      },
      "outputs": [
        {
          "name": "stdout",
          "output_type": "stream",
          "text": [
            "pythonc++\n"
          ]
        }
      ],
      "source": [
        "s1 = 'python'\n",
        "s2 = 'c++'\n",
        "\n",
        "print(s1 + s2)"
      ]
    },
    {
      "cell_type": "code",
      "execution_count": 60,
      "metadata": {
        "colab": {
          "base_uri": "https://localhost:8080/"
        },
        "id": "xNlb8Wcg3r5D",
        "outputId": "e0c16008-3208-425a-f138-5c7c70cd4622"
      },
      "outputs": [
        {
          "name": "stdout",
          "output_type": "stream",
          "text": [
            "The new customer is called ali, his age is 22, and his job is AI Engineer\n"
          ]
        }
      ],
      "source": [
        "name = 'ali'\n",
        "age = 22\n",
        "job = 'AI Engineer'\n",
        "\n",
        "print(f'The new customer is called {name}, his age is {age}, and his job is {job}')"
      ]
    },
    {
      "cell_type": "markdown",
      "metadata": {
        "id": "AGE7BJfBzBCW"
      },
      "source": [
        "--------------------------------------------------------------------------------"
      ]
    },
    {
      "cell_type": "markdown",
      "metadata": {
        "id": "7RR_M9qkzDh8"
      },
      "source": [
        "# Numbers"
      ]
    },
    {
      "cell_type": "code",
      "execution_count": 41,
      "metadata": {
        "colab": {
          "base_uri": "https://localhost:8080/"
        },
        "id": "9xsvSpEry8px",
        "outputId": "5e7effc4-78ae-4f83-aab6-e2ee1f082af7"
      },
      "outputs": [
        {
          "name": "stdout",
          "output_type": "stream",
          "text": [
            "<class 'int'>\n",
            "<class 'int'>\n",
            "<class 'int'>\n"
          ]
        }
      ],
      "source": [
        "# Integers\n",
        "x = 1\n",
        "y = 35656222554887711\n",
        "z = -3255522\n",
        "\n",
        "print(type(x))\n",
        "print(type(y))\n",
        "print(type(z))"
      ]
    },
    {
      "cell_type": "code",
      "execution_count": 42,
      "metadata": {
        "colab": {
          "base_uri": "https://localhost:8080/"
        },
        "id": "7vVbSJ3SzE4j",
        "outputId": "b00c1779-7a03-4036-feb3-c491a827a07e"
      },
      "outputs": [
        {
          "name": "stdout",
          "output_type": "stream",
          "text": [
            "<class 'float'>\n",
            "<class 'float'>\n",
            "<class 'float'>\n"
          ]
        }
      ],
      "source": [
        "# Floats\n",
        "x = 1.10\n",
        "y = 1.0\n",
        "z = -35.59\n",
        "\n",
        "print(type(x))\n",
        "print(type(y))\n",
        "print(type(z))"
      ]
    },
    {
      "cell_type": "code",
      "execution_count": 44,
      "metadata": {
        "colab": {
          "base_uri": "https://localhost:8080/"
        },
        "id": "Hw7YyvJbzjyp",
        "outputId": "82bbd17b-b424-4f80-b211-39fb4ecb9460"
      },
      "outputs": [
        {
          "name": "stdout",
          "output_type": "stream",
          "text": [
            "<class 'complex'>\n",
            "<class 'complex'>\n",
            "<class 'complex'>\n"
          ]
        }
      ],
      "source": [
        "x = 3+5j\n",
        "y = 5j\n",
        "z = -5j\n",
        "\n",
        "print(type(x))\n",
        "print(type(y))\n",
        "print(type(z))"
      ]
    },
    {
      "cell_type": "code",
      "execution_count": 51,
      "metadata": {
        "colab": {
          "base_uri": "https://localhost:8080/"
        },
        "id": "i-CYUQp1zoHE",
        "outputId": "1747b530-94fb-46ea-d027-c29373e14201"
      },
      "outputs": [
        {
          "name": "stdout",
          "output_type": "stream",
          "text": [
            "1.0\n",
            "2\n",
            "(1+0j)\n",
            "67\n",
            "<class 'float'>\n",
            "<class 'int'>\n",
            "<class 'complex'>\n",
            "<class 'int'>\n"
          ]
        }
      ],
      "source": [
        "x = 1    # int\n",
        "y = 2.8  # float\n",
        "z = 1j   # complex\n",
        "s = '67' # string\n",
        "\n",
        "#convert from int to float:\n",
        "a = float(x)\n",
        "#convert from float to int:\n",
        "b = int(y)\n",
        "#convert from int to complex:\n",
        "c = complex(x)\n",
        "#convert from string to int:\n",
        "d = int(s)\n",
        "\n",
        "print(a)\n",
        "print(b)\n",
        "print(c)\n",
        "print(d)\n",
        "\n",
        "print(type(a))\n",
        "print(type(b))\n",
        "print(type(c))\n",
        "print(type(d))"
      ]
    },
    {
      "cell_type": "markdown",
      "metadata": {
        "id": "axedOria0yz0"
      },
      "source": [
        "---------------------------------"
      ]
    },
    {
      "cell_type": "markdown",
      "metadata": {
        "id": "BwWsGzNm00Ye"
      },
      "source": [
        "# Operators\n",
        "1. Arithmetic operators\n",
        "2. Assignment operators\n",
        "3. Comparison operators\n",
        "4. Logical operators"
      ]
    },
    {
      "cell_type": "code",
      "execution_count": 52,
      "metadata": {
        "colab": {
          "base_uri": "https://localhost:8080/"
        },
        "id": "B7IpRV3l0Ns-",
        "outputId": "04f3f33b-5acc-4109-b2da-3ea71d91a5ac"
      },
      "outputs": [
        {
          "name": "stdout",
          "output_type": "stream",
          "text": [
            "13\n",
            "-1\n",
            "42\n",
            "279936\n",
            "0.8571428571428571\n",
            "0\n",
            "1\n"
          ]
        }
      ],
      "source": [
        "# Arithmetic operators\n",
        "x = 6\n",
        "y = 7\n",
        "\n",
        "# Addition\n",
        "print(x + y)\n",
        "\n",
        "# Subtraction\n",
        "print(x - y)\n",
        "\n",
        "# Multiplication\n",
        "print(x * y)\n",
        "\n",
        "# Exponentiation\n",
        "print(x ** y)\n",
        "\n",
        "# Division\n",
        "print(x / y)\n",
        "\n",
        "# Floor division\n",
        "print(x // y)\n",
        "\n",
        "# Modulus\n",
        "print(y % x)"
      ]
    },
    {
      "cell_type": "code",
      "execution_count": 54,
      "metadata": {
        "colab": {
          "base_uri": "https://localhost:8080/"
        },
        "id": "pEk7qCkB1xKU",
        "outputId": "8dfa38b4-631a-4049-c75f-ae93bf706bd8"
      },
      "outputs": [
        {
          "name": "stdout",
          "output_type": "stream",
          "text": [
            "9\n"
          ]
        }
      ],
      "source": [
        "# Assignment operators\n",
        "a = 5\n",
        "\n",
        "a += 4\n",
        "print(a)"
      ]
    },
    {
      "cell_type": "code",
      "execution_count": 55,
      "metadata": {
        "colab": {
          "base_uri": "https://localhost:8080/"
        },
        "id": "Q0tZ1NGm2Flx",
        "outputId": "2418318c-74a2-4679-eaa8-760e79d0fa2b"
      },
      "outputs": [
        {
          "name": "stdout",
          "output_type": "stream",
          "text": [
            "False\n",
            "False\n"
          ]
        }
      ],
      "source": [
        "# Comparison operators\n",
        "a = 25\n",
        "b = 32\n",
        "\n",
        "print(a==b)\n",
        "print(a>b)"
      ]
    },
    {
      "cell_type": "code",
      "execution_count": 56,
      "metadata": {
        "colab": {
          "base_uri": "https://localhost:8080/"
        },
        "id": "bVNzPhKf2i2h",
        "outputId": "eb392dbe-e909-41a0-d05b-6c4595a133a2"
      },
      "outputs": [
        {
          "name": "stdout",
          "output_type": "stream",
          "text": [
            "False\n",
            "True\n",
            "True\n"
          ]
        }
      ],
      "source": [
        "# Logical operators\n",
        "x = 14\n",
        "y = 10\n",
        "\n",
        "# And\n",
        "print(x < 15 and  x < 10)\n",
        "print(x < 15 or  x < 10)\n",
        "print(not(x < 15 and  x < 10))"
      ]
    },
    {
      "cell_type": "markdown",
      "metadata": {
        "id": "CblqzeU83FoR"
      },
      "source": [
        "-------------------------------"
      ]
    },
    {
      "cell_type": "markdown",
      "metadata": {
        "id": "PPjACRPl5MMh"
      },
      "source": [
        "# Lists"
      ]
    },
    {
      "cell_type": "code",
      "execution_count": 79,
      "metadata": {
        "id": "6GcpHHyR2-qV"
      },
      "outputs": [],
      "source": [
        "l1 = [\"apple\", \"orange\", \"banana\"]\n",
        "l2 = [1, 5, 7, 9, 3]\n",
        "l3 = [True, False, False]\n",
        "l4 = [\"abc\", 34, True, 40, \"male\"]"
      ]
    },
    {
      "cell_type": "code",
      "execution_count": 72,
      "metadata": {
        "colab": {
          "base_uri": "https://localhost:8080/"
        },
        "id": "RvJxtabR5nv8",
        "outputId": "3cc8b860-e835-40b9-d552-86bce3864a95"
      },
      "outputs": [
        {
          "name": "stdout",
          "output_type": "stream",
          "text": [
            "apple\n",
            "False\n",
            "[7, 9]\n"
          ]
        }
      ],
      "source": [
        "print(l1[0], l3[-1], l2[2:4], sep='\\n')"
      ]
    },
    {
      "cell_type": "code",
      "execution_count": 97,
      "metadata": {
        "colab": {
          "base_uri": "https://localhost:8080/"
        },
        "id": "8-6m6VJP9mOn",
        "outputId": "9e81005f-3793-491f-f755-17418bfe4b77"
      },
      "outputs": [
        {
          "name": "stdout",
          "output_type": "stream",
          "text": [
            "[9, 7, 8, 5, 3, 1, 7]\n"
          ]
        }
      ],
      "source": [
        "l2[2] = 8\n",
        "print(l2)"
      ]
    },
    {
      "cell_type": "code",
      "execution_count": 89,
      "metadata": {
        "colab": {
          "base_uri": "https://localhost:8080/"
        },
        "id": "4m4LHLP46GsO",
        "outputId": "fe2bf61a-bc11-45bd-9e8b-1e17a2a289a8"
      },
      "outputs": [
        {
          "name": "stdout",
          "output_type": "stream",
          "text": [
            "[1, 3, 5, 7, 7, 9]\n",
            "[9, 7, 7, 5, 3, 1]\n"
          ]
        }
      ],
      "source": [
        "# Asc\n",
        "l2.sort()\n",
        "print(l2)\n",
        "\n",
        "# Desc\n",
        "l2.sort(reverse=True)\n",
        "print(l2)"
      ]
    },
    {
      "cell_type": "code",
      "execution_count": 84,
      "metadata": {
        "colab": {
          "base_uri": "https://localhost:8080/"
        },
        "id": "q6o6UXiY6pLM",
        "outputId": "93f23b5c-7881-41d6-e977-9cdce4be2e57"
      },
      "outputs": [
        {
          "name": "stdout",
          "output_type": "stream",
          "text": [
            "['apple', 'banana', 'orange']\n"
          ]
        }
      ],
      "source": [
        "l1.sort()\n",
        "print(l1)"
      ]
    },
    {
      "cell_type": "code",
      "execution_count": 90,
      "metadata": {
        "colab": {
          "base_uri": "https://localhost:8080/"
        },
        "id": "JNSfo6CV8Dqn",
        "outputId": "37a55a2b-de35-43fc-dbee-178cf7c63dd9"
      },
      "outputs": [
        {
          "name": "stdout",
          "output_type": "stream",
          "text": [
            "[9, 7, 7, 5, 3, 1, 7]\n"
          ]
        }
      ],
      "source": [
        "l2.append(7)\n",
        "print(l2)"
      ]
    },
    {
      "cell_type": "code",
      "execution_count": 91,
      "metadata": {
        "colab": {
          "base_uri": "https://localhost:8080/"
        },
        "id": "0omO2WzC8Xor",
        "outputId": "b6d10219-a68f-42a4-b115-3eed55fc94ba"
      },
      "outputs": [
        {
          "name": "stdout",
          "output_type": "stream",
          "text": [
            "['abc', 34, True, 40, 'male', 'python', 5]\n"
          ]
        }
      ],
      "source": [
        "l4.extend(['python', 5])\n",
        "print(l4)"
      ]
    },
    {
      "cell_type": "markdown",
      "metadata": {
        "id": "NbmzMazx8qDr"
      },
      "source": [
        "----------------------------------------------"
      ]
    },
    {
      "cell_type": "markdown",
      "metadata": {
        "id": "olYBlWs18rub"
      },
      "source": [
        "# Tuples"
      ]
    },
    {
      "cell_type": "code",
      "execution_count": 102,
      "metadata": {
        "id": "VsLpDgE38q4F"
      },
      "outputs": [],
      "source": [
        "t1 = (\"apple\", \"banana\", \"orange\")\n",
        "t2 = (1, 5, 7, 9, 3)\n",
        "t3 = (True, False, False)\n",
        "t4 = (\"abc\", 34, True, 40, \"male\")"
      ]
    },
    {
      "cell_type": "code",
      "execution_count": 103,
      "metadata": {
        "colab": {
          "base_uri": "https://localhost:8080/",
          "height": 35
        },
        "id": "dvqp8OTF8_P-",
        "outputId": "55b05e56-8bdf-4c8b-9adc-08c6ce106fdd"
      },
      "outputs": [
        {
          "data": {
            "application/vnd.google.colaboratory.intrinsic+json": {
              "type": "string"
            },
            "text/plain": [
              "'orange'"
            ]
          },
          "execution_count": 103,
          "metadata": {},
          "output_type": "execute_result"
        }
      ],
      "source": [
        "t1[2]"
      ]
    },
    {
      "cell_type": "code",
      "execution_count": null,
      "metadata": {
        "id": "YxIZVnGN9Z6m"
      },
      "outputs": [],
      "source": [
        "t2[1] = 8\n",
        "print(t2)"
      ]
    },
    {
      "cell_type": "code",
      "execution_count": 105,
      "metadata": {
        "colab": {
          "base_uri": "https://localhost:8080/"
        },
        "id": "IpMAS2jZ9x0F",
        "outputId": "796e671d-ba35-4ff8-d6ae-b6920e979c83"
      },
      "outputs": [
        {
          "name": "stdout",
          "output_type": "stream",
          "text": [
            "(1, 5, 8, 9, 3)\n"
          ]
        }
      ],
      "source": [
        "t2 = list(t2)\n",
        "t2[2] = 8\n",
        "t2 = tuple(t2)\n",
        "print(t2)"
      ]
    },
    {
      "cell_type": "code",
      "execution_count": 106,
      "metadata": {
        "colab": {
          "base_uri": "https://localhost:8080/"
        },
        "id": "O5rI6c-D-BE1",
        "outputId": "f073c62e-f79f-4610-f89e-5d4c32605e5d"
      },
      "outputs": [
        {
          "name": "stdout",
          "output_type": "stream",
          "text": [
            "(1, 5, 8, 9, 3, 6)\n"
          ]
        }
      ],
      "source": [
        "t2 = list(t2)\n",
        "t2.append(6)\n",
        "t2 = tuple(t2)\n",
        "print(t2)"
      ]
    },
    {
      "cell_type": "code",
      "execution_count": 108,
      "metadata": {
        "colab": {
          "base_uri": "https://localhost:8080/"
        },
        "id": "t38BN6t1-QD0",
        "outputId": "3e31ad01-873a-43df-c491-2b1a42e18ed4"
      },
      "outputs": [
        {
          "name": "stdout",
          "output_type": "stream",
          "text": [
            "apple banana orange\n"
          ]
        }
      ],
      "source": [
        "# unpacking\n",
        "fruits = (\"apple\", \"banana\", \"orange\")\n",
        "\n",
        "(green, yellow, orange) = fruits\n",
        "\n",
        "print(green, yellow, orange)"
      ]
    },
    {
      "cell_type": "code",
      "execution_count": 111,
      "metadata": {
        "colab": {
          "base_uri": "https://localhost:8080/"
        },
        "id": "CMLxxj3D-ehE",
        "outputId": "e83ea5e9-3f9e-4a6c-d330-b7b33266ac05"
      },
      "outputs": [
        {
          "name": "stdout",
          "output_type": "stream",
          "text": [
            "apple\n",
            "banana\n",
            "['cherry', 'strawberry', 'raspberry']\n"
          ]
        }
      ],
      "source": [
        "fruits = (\"apple\", \"banana\", \"cherry\", \"strawberry\", \"raspberry\")\n",
        "\n",
        "(green, yellow, *red) = fruits\n",
        "\n",
        "print(green)\n",
        "print(yellow)\n",
        "print(red)"
      ]
    },
    {
      "cell_type": "markdown",
      "metadata": {
        "id": "7uLLkJfGDFpc"
      },
      "source": [
        "# Dictionary"
      ]
    },
    {
      "cell_type": "code",
      "execution_count": 123,
      "metadata": {
        "colab": {
          "base_uri": "https://localhost:8080/"
        },
        "id": "mTSBD2SP_IFs",
        "outputId": "11b86ad0-3956-4741-f155-3ef1ccb24cca"
      },
      "outputs": [
        {
          "name": "stdout",
          "output_type": "stream",
          "text": [
            "{'brand': 'Ford', 'model': 'Mustang', 'year': 1964, 'electric': False, 'colors': ['red', 'white', 'blue']}\n"
          ]
        }
      ],
      "source": [
        "d = {\n",
        "  \"brand\": \"Ford\",\n",
        "  \"model\": \"Mustang\",\n",
        "  \"year\": 1964,\n",
        "  \"electric\": False,\n",
        "  \"colors\": [\"red\", \"white\", \"blue\"]\n",
        "}\n",
        "print(d)"
      ]
    },
    {
      "cell_type": "code",
      "execution_count": 124,
      "metadata": {
        "colab": {
          "base_uri": "https://localhost:8080/",
          "height": 35
        },
        "id": "oZxQ0aSxDOWb",
        "outputId": "ba0d4f9e-5c13-4876-e6b9-ee151c9976ee"
      },
      "outputs": [
        {
          "data": {
            "application/vnd.google.colaboratory.intrinsic+json": {
              "type": "string"
            },
            "text/plain": [
              "'Mustang'"
            ]
          },
          "execution_count": 124,
          "metadata": {},
          "output_type": "execute_result"
        }
      ],
      "source": [
        "d['model']"
      ]
    },
    {
      "cell_type": "code",
      "execution_count": 126,
      "metadata": {
        "colab": {
          "base_uri": "https://localhost:8080/"
        },
        "id": "rgdUB-2GDqi2",
        "outputId": "456e1f38-26fc-4986-a1b0-8d0466c070b5"
      },
      "outputs": [
        {
          "name": "stdout",
          "output_type": "stream",
          "text": [
            "dict_items([('brand', 'Ford'), ('model', 'Mustang'), ('year', 1964), ('electric', False), ('colors', ['red', 'white', 'blue'])])\n",
            "dict_keys(['brand', 'model', 'year', 'electric', 'colors'])\n",
            "dict_values(['Ford', 'Mustang', 1964, False, ['red', 'white', 'blue']])\n"
          ]
        }
      ],
      "source": [
        "print(d.items(), d.keys(), d.values(), sep='\\n')"
      ]
    },
    {
      "cell_type": "code",
      "execution_count": 127,
      "metadata": {
        "colab": {
          "base_uri": "https://localhost:8080/"
        },
        "id": "MKTfPY2OED8C",
        "outputId": "48822884-1a29-4c18-9370-7f3ad0888374"
      },
      "outputs": [
        {
          "name": "stdout",
          "output_type": "stream",
          "text": [
            "{'brand': 'Ford', 'model': 'Mustang', 'year': 1970, 'electric': False, 'colors': ['red', 'white', 'blue']}\n"
          ]
        }
      ],
      "source": [
        "d['year'] = 1970\n",
        "print(d)"
      ]
    },
    {
      "cell_type": "code",
      "execution_count": 129,
      "metadata": {
        "colab": {
          "base_uri": "https://localhost:8080/"
        },
        "id": "Q4JgABSgEZD9",
        "outputId": "ea9f880c-b6e9-4c4d-ae1d-972a6c8386ce"
      },
      "outputs": [
        {
          "name": "stdout",
          "output_type": "stream",
          "text": [
            "{'brand': 'Ford', 'model': 'Mustang', 'year': 1970, 'electric': False, 'colors': ['red', 'white', 'blue'], 'price': '100K'}\n"
          ]
        }
      ],
      "source": [
        "d['price'] = '100K'\n",
        "print(d)"
      ]
    },
    {
      "cell_type": "markdown",
      "metadata": {
        "id": "T5zU5MlSE5P5"
      },
      "source": [
        "# Conditions"
      ]
    },
    {
      "cell_type": "code",
      "execution_count": 131,
      "metadata": {
        "colab": {
          "base_uri": "https://localhost:8080/"
        },
        "id": "-Dl8O8BIEzEv",
        "outputId": "a00b8fe5-2ff6-4333-9650-5e60d9c3b63d"
      },
      "outputs": [
        {
          "name": "stdout",
          "output_type": "stream",
          "text": [
            "a is greater than b\n"
          ]
        }
      ],
      "source": [
        "a = 200\n",
        "b = 33\n",
        "if b > a:\n",
        "  print(\"b is greater than a\")\n",
        "elif a == b:\n",
        "  print(\"a and b are equal\")\n",
        "else:\n",
        "  print(\"a is greater than b\")"
      ]
    },
    {
      "cell_type": "code",
      "execution_count": 132,
      "metadata": {
        "colab": {
          "base_uri": "https://localhost:8080/"
        },
        "id": "qc4SHeHuFCGa",
        "outputId": "274bb7f6-5dd5-44ec-d363-92fc4116bb92"
      },
      "outputs": [
        {
          "name": "stdout",
          "output_type": "stream",
          "text": [
            "B\n"
          ]
        }
      ],
      "source": [
        "a = 2\n",
        "b = 330\n",
        "print(\"A\") if a > b else print(\"B\")"
      ]
    },
    {
      "cell_type": "code",
      "execution_count": 134,
      "metadata": {
        "colab": {
          "base_uri": "https://localhost:8080/"
        },
        "id": "qUHw_G-2FQgO",
        "outputId": "b34146b0-2a82-465b-e80b-bd2511bccdb5"
      },
      "outputs": [
        {
          "name": "stdout",
          "output_type": "stream",
          "text": [
            "=\n"
          ]
        }
      ],
      "source": [
        "a = 330\n",
        "b = 330\n",
        "print(\"A\") if a > b else print(\"=\") if a == b else print(\"B\")"
      ]
    },
    {
      "cell_type": "code",
      "execution_count": 135,
      "metadata": {
        "colab": {
          "base_uri": "https://localhost:8080/"
        },
        "id": "U122XhRdFSrh",
        "outputId": "1126ab13-11ab-482a-a3e7-bd58adc02d45"
      },
      "outputs": [
        {
          "name": "stdout",
          "output_type": "stream",
          "text": [
            "Both conditions are True\n"
          ]
        }
      ],
      "source": [
        "a = 200\n",
        "b = 33\n",
        "c = 500\n",
        "if a > b and c > a:\n",
        "  print(\"Both conditions are True\")"
      ]
    },
    {
      "cell_type": "code",
      "execution_count": 136,
      "metadata": {
        "colab": {
          "base_uri": "https://localhost:8080/"
        },
        "id": "KnT6Jp_-FbBV",
        "outputId": "78936f36-76a6-4780-fd3b-332c2627e337"
      },
      "outputs": [
        {
          "name": "stdout",
          "output_type": "stream",
          "text": [
            "At least one of the conditions is True\n"
          ]
        }
      ],
      "source": [
        "a = 200\n",
        "b = 33\n",
        "c = 500\n",
        "if a > b or a > c:\n",
        "  print(\"At least one of the conditions is True\")"
      ]
    },
    {
      "cell_type": "code",
      "execution_count": 137,
      "metadata": {
        "colab": {
          "base_uri": "https://localhost:8080/"
        },
        "id": "YsoYI8vsFeK7",
        "outputId": "31d49a62-e172-4ae0-fdd1-db60d7e1f3f3"
      },
      "outputs": [
        {
          "name": "stdout",
          "output_type": "stream",
          "text": [
            "a is NOT greater than b\n"
          ]
        }
      ],
      "source": [
        "a = 33\n",
        "b = 200\n",
        "if not a > b:\n",
        "  print(\"a is NOT greater than b\")"
      ]
    },
    {
      "cell_type": "markdown",
      "metadata": {
        "id": "l_jsaL7NFiO1"
      },
      "source": [
        "# Loops"
      ]
    },
    {
      "cell_type": "code",
      "execution_count": 140,
      "metadata": {
        "colab": {
          "base_uri": "https://localhost:8080/"
        },
        "id": "uEJrhMdGFhnv",
        "outputId": "283d5b6a-4d65-41e9-ae5a-fda9a8861aa0"
      },
      "outputs": [
        {
          "name": "stdout",
          "output_type": "stream",
          "text": [
            "0\n",
            "1\n",
            "2\n",
            "3\n",
            "4\n",
            "5\n",
            "6\n",
            "7\n",
            "8\n",
            "9\n"
          ]
        }
      ],
      "source": [
        "# For loops\n",
        "for i in range(10):\n",
        "  print(i)"
      ]
    },
    {
      "cell_type": "code",
      "execution_count": null,
      "metadata": {
        "id": "gwtgXjSOGAxf"
      },
      "outputs": [],
      "source": [
        "# For loops\n",
        "for i in range(2, 11):\n",
        "  print(i)"
      ]
    },
    {
      "cell_type": "code",
      "execution_count": 1,
      "metadata": {
        "id": "RscotBUCGOre"
      },
      "outputs": [
        {
          "name": "stdout",
          "output_type": "stream",
          "text": [
            "0\n",
            "3\n",
            "6\n",
            "9\n",
            "12\n",
            "15\n",
            "18\n",
            "21\n",
            "24\n",
            "27\n",
            "30\n"
          ]
        }
      ],
      "source": [
        "for x in range(0, 31, 3):\n",
        "  print(x)"
      ]
    },
    {
      "cell_type": "code",
      "execution_count": 2,
      "metadata": {
        "id": "4t9cjSHvGXXi"
      },
      "outputs": [
        {
          "name": "stdout",
          "output_type": "stream",
          "text": [
            "10\n",
            "9\n",
            "8\n",
            "7\n",
            "6\n",
            "5\n",
            "4\n",
            "3\n",
            "2\n",
            "1\n"
          ]
        }
      ],
      "source": [
        "for x in range(10, 0, -1):\n",
        "  print(x)"
      ]
    },
    {
      "cell_type": "code",
      "execution_count": 3,
      "metadata": {
        "colab": {
          "base_uri": "https://localhost:8080/"
        },
        "id": "vWBCQhZkGsDb",
        "outputId": "95c0cbbf-b5d8-440f-988e-35fba52d6492"
      },
      "outputs": [
        {
          "name": "stdout",
          "output_type": "stream",
          "text": [
            "apple\n",
            "banana\n",
            "cherry\n"
          ]
        }
      ],
      "source": [
        "fruits = [\"apple\", \"banana\", \"cherry\"]\n",
        "\n",
        "for x in fruits:\n",
        "  print(x)"
      ]
    },
    {
      "cell_type": "code",
      "execution_count": null,
      "metadata": {
        "id": "pO8s6AFfGSYn"
      },
      "outputs": [],
      "source": [
        "adj = [\"red\", \"big\", \"tasty\"]\n",
        "fruits = [\"apple\", \"banana\", \"cherry\"]\n",
        "\n",
        "for x in adj:\n",
        "  for y in fruits:\n",
        "    print(x, y)"
      ]
    },
    {
      "cell_type": "code",
      "execution_count": 4,
      "metadata": {
        "colab": {
          "base_uri": "https://localhost:8080/"
        },
        "id": "6hDvb3ipGm_z",
        "outputId": "a5c4df13-8027-43bf-c070-2e05a03d89d7"
      },
      "outputs": [
        {
          "name": "stdout",
          "output_type": "stream",
          "text": [
            "1\n",
            "2\n",
            "3\n",
            "4\n",
            "5\n"
          ]
        }
      ],
      "source": [
        "# While loops\n",
        "i = 1\n",
        "while i < 6:\n",
        "  print(i)\n",
        "  i += 1"
      ]
    },
    {
      "cell_type": "code",
      "execution_count": null,
      "metadata": {
        "id": "d8LS9zbJHA1T"
      },
      "outputs": [],
      "source": [
        "i = 0\n",
        "while i < 6:\n",
        "  i += 1\n",
        "  if i == 3:\n",
        "    break\n",
        "  print(i)"
      ]
    },
    {
      "cell_type": "markdown",
      "metadata": {
        "id": "RhtKAuH_IJW_"
      },
      "source": [
        "# Functions"
      ]
    },
    {
      "cell_type": "code",
      "execution_count": 5,
      "metadata": {
        "colab": {
          "base_uri": "https://localhost:8080/"
        },
        "id": "k1uJiDikI1lS",
        "outputId": "5e25c9eb-13fb-4243-8a3a-60f0e2fe914f"
      },
      "outputs": [
        {
          "name": "stdout",
          "output_type": "stream",
          "text": [
            "Hello Ali\n"
          ]
        }
      ],
      "source": [
        "def greet(name):\n",
        "    print(f'Hello {name}')\n",
        "\n",
        "greet('Ali')"
      ]
    },
    {
      "cell_type": "code",
      "execution_count": 24,
      "metadata": {
        "colab": {
          "base_uri": "https://localhost:8080/"
        },
        "id": "ure0BSIdIeaM",
        "outputId": "3f6fccae-8639-42ee-d795-897cdea3df2e"
      },
      "outputs": [
        {
          "name": "stdout",
          "output_type": "stream",
          "text": [
            "Ali Ahmed\n"
          ]
        }
      ],
      "source": [
        "def get_name(fname, lname):\n",
        "  print(fname + \" \" + lname)\n",
        "\n",
        "get_name(\"Ali\", \"Ahmed\")"
      ]
    },
    {
      "cell_type": "code",
      "execution_count": 26,
      "metadata": {
        "colab": {
          "base_uri": "https://localhost:8080/"
        },
        "id": "w7SBngZQHHWP",
        "outputId": "75ee7ddd-d000-4a44-b77c-ac64a4a7477a"
      },
      "outputs": [
        {
          "name": "stdout",
          "output_type": "stream",
          "text": [
            "The youngest child is Omar\n"
          ]
        }
      ],
      "source": [
        "names = ['Ali', 'Ahmed', 'Omar']\n",
        "\n",
        "def my_function(kids):\n",
        "  print(\"The youngest child is \" + kids[2])\n",
        "\n",
        "my_function(names)"
      ]
    }
  ],
  "metadata": {
    "colab": {
      "provenance": []
    },
    "kernelspec": {
      "display_name": "Python 3",
      "name": "python3"
    },
    "language_info": {
      "codemirror_mode": {
        "name": "ipython",
        "version": 3
      },
      "file_extension": ".py",
      "mimetype": "text/x-python",
      "name": "python",
      "nbconvert_exporter": "python",
      "pygments_lexer": "ipython3",
      "version": "3.12.2"
    }
  },
  "nbformat": 4,
  "nbformat_minor": 0
}
