{
 "cells": [
  {
   "cell_type": "markdown",
   "id": "759d04ba",
   "metadata": {},
   "source": [
    "**1-Write a Python program to calculate the length of a string using 2 ways"
   ]
  },
  {
   "cell_type": "code",
   "execution_count": 3,
   "id": "e434c950",
   "metadata": {},
   "outputs": [
    {
     "name": "stdout",
     "output_type": "stream",
     "text": [
      "7\n"
     ]
    }
   ],
   "source": [
    "name = 'Mahmoud'\n",
    "length = len(name)\n",
    "print(length)"
   ]
  },
  {
   "cell_type": "code",
   "execution_count": 4,
   "id": "7a2dfa32",
   "metadata": {},
   "outputs": [
    {
     "name": "stdout",
     "output_type": "stream",
     "text": [
      "7\n"
     ]
    }
   ],
   "source": [
    "name = 'Mahmoud'\n",
    "length = 0\n",
    "for i in name:\n",
    "    length += 1\n",
    "print(length)"
   ]
  },
  {
   "cell_type": "markdown",
   "id": "d7cc9da7",
   "metadata": {},
   "source": [
    "**2-Write a Python program to get a string made of the first 2 and last 2 characters of a given string. If the string length is less than 2, return the empty string instead (\"##Sample String : 'w3resource'\n",
    "Expected Result : 'w3ce'\n",
    "##Sample String : 'w3'\n",
    "Expected Result : 'w3w3'\n",
    "##Sample String : ' w'\n",
    "Expected Result : Empty String)"
   ]
  },
  {
   "cell_type": "code",
   "execution_count": 7,
   "id": "dafa9dd8",
   "metadata": {},
   "outputs": [
    {
     "name": "stdout",
     "output_type": "stream",
     "text": [
      "Empty String\n"
     ]
    }
   ],
   "source": [
    "name = input('Enter your name: ')\n",
    "\n",
    "if len(name) < 2:\n",
    "    print('Empty String')\n",
    "else:\n",
    "    print(name[0:2] + name[-2:])"
   ]
  },
  {
   "cell_type": "markdown",
   "id": "1534f956",
   "metadata": {},
   "source": [
    "**3-Write a Python program to add 'ing' at the end of a given string (length should be at least 3). If the given string already ends with 'ing', add 'ly' instead. If the string length of the given string is less than 3, leave it unchanged. (Sample String : 'abc'\n",
    "Expected Result : 'abcing')"
   ]
  },
  {
   "cell_type": "code",
   "execution_count": 11,
   "id": "7ff8cec4",
   "metadata": {},
   "outputs": [
    {
     "name": "stdout",
     "output_type": "stream",
     "text": [
      "as\n"
     ]
    }
   ],
   "source": [
    "n = input('Enter a word: ')\n",
    "if len(n) < 3:\n",
    "    print(n)\n",
    "else:\n",
    "    if n[-3:] == 'ing':\n",
    "        print(n + 'ly')\n",
    "    else:\n",
    "        print(n + 'ing')"
   ]
  },
  {
   "cell_type": "markdown",
   "id": "1c0a6627",
   "metadata": {},
   "source": [
    "**4-Write a Python function that takes a list of words and return the longest word and the length of the longest one\n",
    "(Longest word: Exercises\n",
    "Length of the longest word: 9)"
   ]
  },
  {
   "cell_type": "code",
   "execution_count": 179,
   "id": "397341d9",
   "metadata": {},
   "outputs": [
    {
     "name": "stdout",
     "output_type": "stream",
     "text": [
      "Longest word: Mahmoud \n",
      "Length of the longest word: 7\n"
     ]
    }
   ],
   "source": [
    "def getLongestWord(words):\n",
    "    longestWord = ''\n",
    "    for word in words:\n",
    "        if len(word) > len(longestWord):\n",
    "            longestWord = word\n",
    "    return f'Longest word: {longestWord} \\nLength of the longest word: {len(longestWord)}'\n",
    "\n",
    "print(getLongestWord(['Mahmoud', 'Alaa','Helmy']))"
   ]
  },
  {
   "cell_type": "markdown",
   "id": "53a03a6a",
   "metadata": {},
   "source": [
    "**5-Write a Python program to change a given string to a newly string where the first and last chars have been exchanged using 2 ways (Sample String:abca  Expected Result:ebce)"
   ]
  },
  {
   "cell_type": "code",
   "execution_count": 181,
   "id": "fd327d2a",
   "metadata": {},
   "outputs": [
    {
     "name": "stdout",
     "output_type": "stream",
     "text": [
      "Result using method 1: abca\n"
     ]
    }
   ],
   "source": [
    "def exchange_chars_1(input_string,char):\n",
    "    if len(input_string) < 2:\n",
    "        return input_string\n",
    "    return input_string[-1] + input_string[1:-1] + input_string[0]\n",
    "\n",
    "sample_string = \"abca\"\n",
    "result_1 = exchange_chars_1(sample_string)\n",
    "print(result_1)"
   ]
  },
  {
   "cell_type": "code",
   "execution_count": 185,
   "id": "285788b4",
   "metadata": {},
   "outputs": [
    {
     "name": "stdout",
     "output_type": "stream",
     "text": [
      "ebca\n"
     ]
    }
   ],
   "source": [
    "my_string = \"abce\"\n",
    "if len(my_string) < 2:\n",
    "    my_string \n",
    "\n",
    "print(f\"{my_string[-1]}{my_string[1:-1]}{my_string[0]}\")"
   ]
  },
  {
   "cell_type": "markdown",
   "id": "25f89808",
   "metadata": {},
   "source": [
    "**6-Write a Python program to remove characters that have odd index values in a given string (Sample String:abca Expected Result:ac)"
   ]
  },
  {
   "cell_type": "code",
   "execution_count": 20,
   "id": "05959bd7",
   "metadata": {},
   "outputs": [
    {
     "name": "stdout",
     "output_type": "stream",
     "text": [
      "ac\n"
     ]
    }
   ],
   "source": [
    "n = 'abca'\n",
    "print(n[::2])"
   ]
  },
  {
   "cell_type": "markdown",
   "id": "eb16e898",
   "metadata": {},
   "source": [
    "**7-Write a Python program to count the occurrences of each word in a given sentence (Sample String:amr and ahmed are frindes but amr is the tallest Expected Result:2)"
   ]
  },
  {
   "cell_type": "code",
   "execution_count": 25,
   "id": "01ce6cf5",
   "metadata": {},
   "outputs": [
    {
     "name": "stdout",
     "output_type": "stream",
     "text": [
      "The most repeated word is: amr \n",
      "Number of occurrences: 2\n"
     ]
    }
   ],
   "source": [
    "sentence = 'amr and ahmed are frindes but amr is the tallest'\n",
    "words=sentence.lower().split()\n",
    "wordConuts = {}\n",
    "for word in words :\n",
    "    if word in wordConuts:\n",
    "        wordConuts[word] += 1\n",
    "    else:\n",
    "        wordConuts[word] = 1\n",
    "occurrencesCount = 0\n",
    "mostRepeatedWord = ''\n",
    "for word in wordConuts:\n",
    "    if wordConuts[word] > occurrencesCount:\n",
    "        occurrencesCount = wordConuts[word]\n",
    "        mostRepeatedWord = word\n",
    "\n",
    "print(f'The most repeated word is: {mostRepeatedWord} \\nNumber of occurrences: {occurrencesCount}')"
   ]
  },
  {
   "cell_type": "markdown",
   "id": "4e8125f1",
   "metadata": {},
   "source": [
    "**8-Write a Python script that takes input from the user and displays that input back in upper and lower cases"
   ]
  },
  {
   "cell_type": "code",
   "execution_count": 26,
   "id": "66c8f778",
   "metadata": {},
   "outputs": [
    {
     "name": "stdout",
     "output_type": "stream",
     "text": [
      "MAHMOUD\n",
      "mahmoud\n"
     ]
    }
   ],
   "source": [
    "n = input('Enter a word: ')\n",
    "print(n.upper())\n",
    "print(n.lower())"
   ]
  },
  {
   "cell_type": "markdown",
   "id": "fcd68aa1",
   "metadata": {},
   "source": [
    "**9-Write a Python function to reverse a string if its length is a multiple of 4"
   ]
  },
  {
   "cell_type": "code",
   "execution_count": 29,
   "id": "0671a931",
   "metadata": {},
   "outputs": [
    {
     "name": "stdout",
     "output_type": "stream",
     "text": [
      "sduomham\n"
     ]
    }
   ],
   "source": [
    "def reverseTheString(word):\n",
    "    if len(word) % 4 ==0 : \n",
    "        return word[::-1]\n",
    "    else:\n",
    "        return word\n",
    "print(reverseTheString('mahmouds'))"
   ]
  },
  {
   "cell_type": "markdown",
   "id": "b577c68d",
   "metadata": {},
   "source": [
    "**10- Write a Python program to remove a newline in Python"
   ]
  },
  {
   "cell_type": "code",
   "execution_count": 28,
   "id": "e0c6525a",
   "metadata": {},
   "outputs": [
    {
     "name": "stdout",
     "output_type": "stream",
     "text": [
      "Hello world\n"
     ]
    }
   ],
   "source": [
    "n = \"Hello \\nworld\"\n",
    "# print(n.strip()) \n",
    "print(n.replace(\"\\n\", \"\"))"
   ]
  },
  {
   "cell_type": "markdown",
   "id": "80db5ae0",
   "metadata": {},
   "source": [
    "**11-Write a Python program to check whether a string starts with specified characters"
   ]
  },
  {
   "cell_type": "code",
   "execution_count": 2,
   "id": "0cc4e03e",
   "metadata": {},
   "outputs": [
    {
     "name": "stdout",
     "output_type": "stream",
     "text": [
      "Yes\n"
     ]
    }
   ],
   "source": [
    "name = \"Mahmoud\"\n",
    "char = \"M\"\n",
    "\n",
    "if(name.startswith(char)):\n",
    "    print(\"Yes\")\n",
    "else:\n",
    "    print(\"No\")"
   ]
  },
  {
   "cell_type": "markdown",
   "id": "593a68db",
   "metadata": {},
   "source": [
    "**12- Write a Python program to add prefix text to all of the lines in a string"
   ]
  },
  {
   "cell_type": "code",
   "execution_count": 5,
   "id": "d2e46ada",
   "metadata": {},
   "outputs": [
    {
     "name": "stdout",
     "output_type": "stream",
     "text": [
      "-->Mahmoud \n",
      "-->Alaa \n",
      "-->Helmy\n"
     ]
    }
   ],
   "source": [
    "name = \"Mahmoud \\nAlaa \\nHelmy\"\n",
    "prefix = \"-->\"\n",
    "\n",
    "newName = name.splitlines()\n",
    "for i in newName:\n",
    "    print(prefix + i)"
   ]
  },
  {
   "cell_type": "markdown",
   "id": "86fa1543",
   "metadata": {},
   "source": [
    "**13-Write a Python program to print the following numbers up to 2 decimal places"
   ]
  },
  {
   "cell_type": "code",
   "execution_count": 14,
   "id": "cd4a9d89",
   "metadata": {},
   "outputs": [
    {
     "name": "stdout",
     "output_type": "stream",
     "text": [
      "123.46\n",
      "123.46\n",
      "2.5\n",
      "2.50\n",
      "10\n",
      "10.00\n",
      "12345.68\n",
      "12345.68\n"
     ]
    }
   ],
   "source": [
    "numbers = [123.456, 2.5, 10, 12345.6789]\n",
    "for num in numbers:\n",
    "    # round() for rounding off to 2 decimal places but if the number is an integer, it will be printed without decimal places.\n",
    "    print(round(num, 2))\n",
    "    # f-strings for concise formatting\n",
    "    print(f\"{num:.2f}\")"
   ]
  },
  {
   "cell_type": "markdown",
   "id": "452c0ab0",
   "metadata": {},
   "source": [
    "**14-Write a Python program to print the following numbers up to 2 decimal places with a sign"
   ]
  },
  {
   "cell_type": "code",
   "execution_count": null,
   "id": "73e82479",
   "metadata": {},
   "outputs": [],
   "source": [
    "numbers = [123.456, -2.5, 10, 12345.6789]\n",
    "for num in numbers:\n",
    "    print(round(num, 2))\n",
    "    # f-strings for concise formatting\n",
    "    print(f\"{num:.2f}\")"
   ]
  },
  {
   "cell_type": "markdown",
   "id": "32b1811a",
   "metadata": {},
   "source": [
    "**15-Write a Python program to display a number with a comma separator"
   ]
  },
  {
   "cell_type": "code",
   "execution_count": 15,
   "id": "f30fc0b6",
   "metadata": {},
   "outputs": [
    {
     "name": "stdout",
     "output_type": "stream",
     "text": [
      "123.0\n"
     ]
    }
   ],
   "source": [
    "number = 123\n",
    "print(f\"{number:.1f}\")"
   ]
  },
  {
   "cell_type": "markdown",
   "id": "0477f487",
   "metadata": {},
   "source": [
    "**16-Write a Python program to reverse a string using 2 ways"
   ]
  },
  {
   "cell_type": "code",
   "execution_count": 20,
   "id": "aa8beec8",
   "metadata": {},
   "outputs": [
    {
     "name": "stdout",
     "output_type": "stream",
     "text": [
      "duomhaM\n",
      "duomhaM\n"
     ]
    }
   ],
   "source": [
    "name = \"Mahmoud\"\n",
    "# First way\n",
    "print(''.join(reversed(name)))\n",
    "# Second way\n",
    "# [start:end:step]\n",
    "print(name[::-1])"
   ]
  },
  {
   "cell_type": "markdown",
   "id": "5afc3166",
   "metadata": {},
   "source": [
    " **17-Write a Python program to count repeated characters in a string (hint:use dictionary)"
   ]
  },
  {
   "cell_type": "code",
   "execution_count": 29,
   "id": "515a469c",
   "metadata": {},
   "outputs": [
    {
     "name": "stdout",
     "output_type": "stream",
     "text": [
      "mahmoudalaa\n",
      "The most repeated char is: a \n",
      "Number of occurrences: 4\n"
     ]
    }
   ],
   "source": [
    "word = 'mahmoud alaa'\n",
    "chars=word.lower().replace(' ','')\n",
    "print(chars)\n",
    "charConuts = {}\n",
    "for char in chars :\n",
    "    if char in charConuts:\n",
    "        charConuts[char] += 1\n",
    "    else:\n",
    "        charConuts[char] = 1\n",
    "occurrencesCount = 0\n",
    "mostRepeatedChar = ''\n",
    "for char in charConuts:\n",
    "    if charConuts[char] > occurrencesCount:\n",
    "        occurrencesCount = charConuts[char]\n",
    "        mostRepeatedChar = char\n",
    "\n",
    "print(f'The most repeated char is: {mostRepeatedChar} \\nNumber of occurrences: {occurrencesCount}')"
   ]
  },
  {
   "cell_type": "markdown",
   "id": "ae14e4e5",
   "metadata": {},
   "source": [
    "**18-Write a Python program to find the first non-repeating character in a given string"
   ]
  },
  {
   "cell_type": "code",
   "execution_count": 31,
   "id": "d73778e5",
   "metadata": {},
   "outputs": [
    {
     "name": "stdout",
     "output_type": "stream",
     "text": [
      "mahmoudalaa\n",
      "The non repeated char is: h \n",
      "Number of occurrences: 1\n"
     ]
    }
   ],
   "source": [
    "word = 'mahmoud alaa'\n",
    "chars=word.lower().replace(' ','')\n",
    "print(chars)\n",
    "charConuts = {}\n",
    "for char in chars :\n",
    "    if char in charConuts:\n",
    "        charConuts[char] += 1\n",
    "    else:\n",
    "        charConuts[char] = 1\n",
    "occurrencesCount = 1\n",
    "nonRepeatedChar = ''\n",
    "for char in charConuts:\n",
    "    if charConuts[char] == occurrencesCount:\n",
    "        occurrencesCount = charConuts[char]\n",
    "        nonRepeatedChar = char\n",
    "        break\n",
    "\n",
    "print(f'The non repeated char is: {nonRepeatedChar} \\nNumber of occurrences: {occurrencesCount}')"
   ]
  },
  {
   "cell_type": "markdown",
   "id": "3adf5669",
   "metadata": {},
   "source": [
    "**19-Write a Python program to remove spaces from a given string"
   ]
  },
  {
   "cell_type": "code",
   "execution_count": 35,
   "id": "b4f22602",
   "metadata": {},
   "outputs": [
    {
     "name": "stdout",
     "output_type": "stream",
     "text": [
      "MahmoudAlaaHelmy\n"
     ]
    }
   ],
   "source": [
    "name = 'Mahmoud Alaa Helmy'\n",
    "print(name.replace(' ',''))"
   ]
  },
  {
   "cell_type": "markdown",
   "id": "734de60c",
   "metadata": {},
   "source": [
    "**20-Write a Python program to count the number of non-empty substrings of a given string"
   ]
  },
  {
   "cell_type": "code",
   "execution_count": 38,
   "id": "ef3f2274",
   "metadata": {},
   "outputs": [
    {
     "name": "stdout",
     "output_type": "stream",
     "text": [
      "16\n"
     ]
    }
   ],
   "source": [
    "name = 'Mahmoud Alaa Helmy'\n",
    "print(len(name.replace(' ','')))"
   ]
  },
  {
   "cell_type": "markdown",
   "id": "509998e2",
   "metadata": {},
   "source": [
    "**21-write a Python program to swap first and last element of any list."
   ]
  },
  {
   "cell_type": "code",
   "execution_count": 40,
   "id": "68692d7f",
   "metadata": {},
   "outputs": [
    {
     "name": "stdout",
     "output_type": "stream",
     "text": [
      "[9, 2, 3, 4, 5, 6, 7, 8, 1]\n"
     ]
    }
   ],
   "source": [
    "l = [1, 2, 3, 4, 5, 6, 7, 8, 9]\n",
    "temp = l[0]\n",
    "l[0] = l[-1]\n",
    "l[-1] = temp\n",
    "print(l)"
   ]
  },
  {
   "cell_type": "markdown",
   "id": "959e0837",
   "metadata": {},
   "source": [
    "**22-Given a list in Python and provided the positions of the elements, write a program to swap the two elements in the list. (Input : List = [23, 65, 19, 90], pos1 = 1, pos2 = 3\n",
    "Output : [19, 65, 23, 90])"
   ]
  },
  {
   "cell_type": "code",
   "execution_count": 52,
   "id": "225d8c6d",
   "metadata": {},
   "outputs": [
    {
     "name": "stdout",
     "output_type": "stream",
     "text": [
      "[19, 65, 23, 90]\n"
     ]
    }
   ],
   "source": [
    "l = [23, 65, 19, 90]\n",
    "pos1 = 1\n",
    "pos2 = 3\n",
    "if pos1 < 0 or pos1 >= len(l) or pos2 < 0 or pos2 >= len(l):\n",
    "    print(\"Invalid positions provided\")\n",
    "else:\n",
    "    temp = l[pos1-1]\n",
    "    l[pos1-1] = l[pos2-1]\n",
    "    l[pos2-1] = temp\n",
    "    print(l)"
   ]
  },
  {
   "cell_type": "markdown",
   "id": "66fc6682",
   "metadata": {},
   "source": [
    "**23- search for the all ways to know the length of the list"
   ]
  },
  {
   "cell_type": "code",
   "execution_count": 68,
   "id": "63ff8b43",
   "metadata": {},
   "outputs": [
    {
     "name": "stdout",
     "output_type": "stream",
     "text": [
      "9\n",
      "18\n"
     ]
    }
   ],
   "source": [
    "l = [1, 2, 3, 4, 5, 6, 7, 8, 9]\n",
    "print(len(l))\n"
   ]
  },
  {
   "cell_type": "code",
   "execution_count": 64,
   "id": "cef2b4c6",
   "metadata": {},
   "outputs": [
    {
     "name": "stdout",
     "output_type": "stream",
     "text": [
      "9\n"
     ]
    }
   ],
   "source": [
    "def getListLength(list):\n",
    "  if not list:\n",
    "    return 0\n",
    "  else:\n",
    "    return 1 + getListLength(list[1:])\n",
    "print(getListLength(l))"
   ]
  },
  {
   "cell_type": "code",
   "execution_count": 67,
   "id": "1cbfa2b2",
   "metadata": {},
   "outputs": [
    {
     "name": "stdout",
     "output_type": "stream",
     "text": [
      "9\n"
     ]
    }
   ],
   "source": [
    "count=0\n",
    "for i in l:\n",
    "    count += 1\n",
    "print(count)"
   ]
  },
  {
   "cell_type": "code",
   "execution_count": 69,
   "id": "22fedccc",
   "metadata": {},
   "outputs": [
    {
     "name": "stdout",
     "output_type": "stream",
     "text": [
      "9\n"
     ]
    }
   ],
   "source": [
    "print(sum( 1 for i in l))"
   ]
  },
  {
   "cell_type": "markdown",
   "id": "89b57033",
   "metadata": {},
   "source": [
    "**24-write a Python code to find the Maximum number of list of numbers."
   ]
  },
  {
   "cell_type": "code",
   "execution_count": 76,
   "id": "eab23c60",
   "metadata": {},
   "outputs": [
    {
     "name": "stdout",
     "output_type": "stream",
     "text": [
      "15\n"
     ]
    }
   ],
   "source": [
    "l = [3, 15, 2, 7, 10]\n",
    "maxNumber = l[0]\n",
    "for i in l:\n",
    "    if i > maxNumber:\n",
    "        maxNumber = i\n",
    "print(maxNumber)"
   ]
  },
  {
   "cell_type": "code",
   "execution_count": null,
   "id": "15f342de",
   "metadata": {},
   "outputs": [],
   "source": [
    "listOfNumbers = [3, 15, 2, 7, 10] \n",
    "maxNumber = max(listOfNumbers)\n",
    "print(f\"The minimum number is: {maxNumber}\")"
   ]
  },
  {
   "cell_type": "markdown",
   "id": "c3799e8a",
   "metadata": {},
   "source": [
    "**25-write a Python code to find the Minimum number of list of numbers."
   ]
  },
  {
   "cell_type": "code",
   "execution_count": 87,
   "id": "21f8cbd6",
   "metadata": {},
   "outputs": [
    {
     "name": "stdout",
     "output_type": "stream",
     "text": [
      "The maximum number is: 2\n"
     ]
    }
   ],
   "source": [
    "listOfNumbers = [3, 15, 2, 7, 10] \n",
    "minNumber = min(listOfNumbers)\n",
    "print(f\"The maximum number is: {minNumber}\")"
   ]
  },
  {
   "cell_type": "markdown",
   "id": "96822d96",
   "metadata": {},
   "source": [
    "**26-search for if an elem is existing in list"
   ]
  },
  {
   "cell_type": "code",
   "execution_count": 89,
   "id": "51ca5c9a",
   "metadata": {},
   "outputs": [
    {
     "name": "stdout",
     "output_type": "stream",
     "text": [
      "No\n"
     ]
    }
   ],
   "source": [
    "l = [3, 15, 2, 7, 10]\n",
    "searchNumber = 9\n",
    "if searchNumber in l: print('Yes')\n",
    "else: print('No')"
   ]
  },
  {
   "cell_type": "markdown",
   "id": "d9557da7",
   "metadata": {},
   "source": [
    "**27- clear python list using different ways"
   ]
  },
  {
   "cell_type": "code",
   "execution_count": 92,
   "id": "b69858a3",
   "metadata": {},
   "outputs": [
    {
     "name": "stdout",
     "output_type": "stream",
     "text": [
      "[]\n"
     ]
    }
   ],
   "source": [
    "listOfNumbers = [3, 15, 2, 7, 10]\n",
    "listOfNumbers.clear()\n",
    "print(listOfNumbers)"
   ]
  },
  {
   "cell_type": "code",
   "execution_count": 93,
   "id": "bf0cdcd5",
   "metadata": {},
   "outputs": [
    {
     "name": "stdout",
     "output_type": "stream",
     "text": [
      "[]\n"
     ]
    }
   ],
   "source": [
    "listOfNumbers = [3, 15, 2, 7, 10]\n",
    "listOfNumbers = []\n",
    "print(listOfNumbers)"
   ]
  },
  {
   "cell_type": "markdown",
   "id": "52160e88",
   "metadata": {},
   "source": [
    "**28-remove duplicated elements from a list"
   ]
  },
  {
   "cell_type": "code",
   "execution_count": 95,
   "id": "5e362228",
   "metadata": {},
   "outputs": [
    {
     "name": "stdout",
     "output_type": "stream",
     "text": [
      "[10, 3, 7, 15]\n"
     ]
    }
   ],
   "source": [
    "listOfNumbers = [3, 15, 3, 7, 10,7]\n",
    "print(list(set(listOfNumbers)))"
   ]
  },
  {
   "cell_type": "markdown",
   "id": "282337f7",
   "metadata": {},
   "source": [
    "**29-Given list values and keys list, convert these values to key value pairs in form of list of dictionaries. (Input : test_list = [“Gfg”, 3, “is”, 8], key_list = [“name”, “id”]\n",
    "Output : [{‘name’: ‘Gfg’, ‘id’: 3}, {‘name’: ‘is’, ‘id’: 8}])"
   ]
  },
  {
   "cell_type": "code",
   "execution_count": 12,
   "id": "408e81dc",
   "metadata": {},
   "outputs": [
    {
     "name": "stdout",
     "output_type": "stream",
     "text": [
      "[{'name': 'Gfg', 'id': 3}, {'name': 'is', 'id': 8}]\n"
     ]
    }
   ],
   "source": [
    "test_list = [\"Gfg\", 3, \"is\", 8]\n",
    "key_list = [\"name\", \"id\"]\n",
    "print([dict(zip(key_list, test_list[i: (i + len(key_list))])) for i in range(0, len(test_list), len(key_list))])"
   ]
  },
  {
   "cell_type": "markdown",
   "id": "c26b6e9f",
   "metadata": {},
   "source": [
    "**30-write a python program to count unique values inside a list using different ways"
   ]
  },
  {
   "cell_type": "code",
   "execution_count": 14,
   "id": "72132667",
   "metadata": {},
   "outputs": [
    {
     "name": "stdout",
     "output_type": "stream",
     "text": [
      "4\n"
     ]
    }
   ],
   "source": [
    "l = [3, 3, 2, 2, 10,4,4]\n",
    "print(len(set(l)))"
   ]
  },
  {
   "cell_type": "code",
   "execution_count": 15,
   "id": "d3000d64",
   "metadata": {},
   "outputs": [
    {
     "name": "stdout",
     "output_type": "stream",
     "text": [
      "4\n"
     ]
    }
   ],
   "source": [
    "print(len({element for element in set(l)}))"
   ]
  },
  {
   "cell_type": "markdown",
   "id": "fed6677c",
   "metadata": {},
   "source": [
    "**31-write a python program Extract all elements with Frequency greater than K (Input : test_list = [4, 6, 4, 3, 3, 4, 3, 4, 3, 8], K = 3 \n",
    "Output : [4, 3] )"
   ]
  },
  {
   "cell_type": "code",
   "execution_count": 22,
   "id": "d81f3f9d",
   "metadata": {},
   "outputs": [
    {
     "name": "stdout",
     "output_type": "stream",
     "text": [
      "[4, 3]\n"
     ]
    }
   ],
   "source": [
    "from collections import Counter\n",
    "test_list = [4, 6, 4, 3, 3, 4, 3, 4, 3, 8]\n",
    "k = 3 \n",
    "freq_dict = Counter(test_list)\n",
    "print([element for element, count in freq_dict.items() if count > k])"
   ]
  },
  {
   "cell_type": "markdown",
   "id": "caca5224",
   "metadata": {},
   "source": [
    "**32-write a python program to find the Strongest Neighbour (Input: 1 2 2 3 4 5\n",
    "Output: 2 2 3 4 5)"
   ]
  },
  {
   "cell_type": "code",
   "execution_count": 28,
   "id": "39fbd9b2",
   "metadata": {},
   "outputs": [
    {
     "name": "stdout",
     "output_type": "stream",
     "text": [
      "[2, 2, 3, 4, 5]\n"
     ]
    }
   ],
   "source": [
    "nums = [1, 2, 2, 3, 4, 5]\n",
    "print([ max(nums[i-1],nums[i]) for i in range(1, len(nums))])"
   ]
  },
  {
   "cell_type": "markdown",
   "id": "a9fa8baf",
   "metadata": {},
   "source": [
    "**33-write a Python Program to print all Possible Combinations from the three Digits (Input: [1, 2, 3]\n",
    "Output:\n",
    "1 2 3 ##\n",
    "1 3 2 ##\n",
    "2 1 3 ##\n",
    "2 3 1 ##\n",
    "3 1 2 ##\n",
    "3 2 1)"
   ]
  },
  {
   "cell_type": "code",
   "execution_count": 29,
   "id": "8c520a76",
   "metadata": {},
   "outputs": [
    {
     "name": "stdout",
     "output_type": "stream",
     "text": [
      "[(1, 2, 3), (1, 3, 2), (2, 1, 3), (2, 3, 1), (3, 1, 2), (3, 2, 1)]\n"
     ]
    }
   ],
   "source": [
    "from itertools import permutations\n",
    "digits = [1, 2, 3]\n",
    "print([ digit for digit in permutations(digits)])"
   ]
  },
  {
   "cell_type": "markdown",
   "id": "5288bb89",
   "metadata": {},
   "source": [
    "**34-write a Python program to find all the Combinations in the list with the given condition (Input: test_list = [1,2,3] \n",
    "Output: \n",
    " [1], [1, 2], [1, 2, 3], [1, 3]\n",
    " [2], [2, 3], [3])"
   ]
  },
  {
   "cell_type": "code",
   "execution_count": 41,
   "id": "59b89646",
   "metadata": {},
   "outputs": [
    {
     "name": "stdout",
     "output_type": "stream",
     "text": [
      "[(1,), (2,), (3,), (1, 2), (1, 3), (2, 3), (1, 2, 3)]\n"
     ]
    }
   ],
   "source": [
    "from itertools import combinations\n",
    "test_list = [1, 2, 3]\n",
    "all_combinations = []\n",
    "for r in range(1, len(test_list) + 1):\n",
    "    all_combinations.extend(combinations(test_list, r))\n",
    "print(all_combinations)\n"
   ]
  },
  {
   "cell_type": "markdown",
   "id": "39973705",
   "metadata": {},
   "source": [
    "**35-write a Python program to get all unique combinations of two Lists (List_1 = [\"a\",\"b\"]\n",
    "List_2 = [1,2]\n",
    "Unique_combination = [[('a',1),('b',2)],[('a',2),('b',1)]] )"
   ]
  },
  {
   "cell_type": "code",
   "execution_count": 49,
   "id": "8c4ba22b",
   "metadata": {},
   "outputs": [
    {
     "name": "stdout",
     "output_type": "stream",
     "text": [
      "[('b', 2), ('a', 1), ('a', 2), ('b', 1)]\n"
     ]
    }
   ],
   "source": [
    "from itertools import product\n",
    "list1 = [\"a\", \"b\"]\n",
    "list2 = [1, 2]\n",
    "all_combinations = product(list1, list2)\n",
    "unique_combinations = set(tuple(combination) for combination in all_combinations)\n",
    "print(list(unique_combinations))\n"
   ]
  },
  {
   "cell_type": "markdown",
   "id": "25199af5",
   "metadata": {},
   "source": [
    "**36-Remove all the occurrences of an element from a list in Python (Input : 1 1 2 3 4 5 1 2 1 \n",
    "**Output : 2 3 4 5 2)"
   ]
  },
  {
   "cell_type": "code",
   "execution_count": 53,
   "id": "6dc4c2ba",
   "metadata": {},
   "outputs": [
    {
     "name": "stdout",
     "output_type": "stream",
     "text": [
      "[2, 3, 4, 5, 2]\n"
     ]
    }
   ],
   "source": [
    "input_list = [1, 1, 2, 3, 4, 5, 1, 2, 1]\n",
    "element = 1\n",
    "result_list = [x for x in input_list if x != element]\n",
    "print(result_list)"
   ]
  },
  {
   "cell_type": "markdown",
   "id": "bf1a3c93",
   "metadata": {},
   "source": [
    "**37-write a python program to Replace index elements with elements in Other List (The original list 1 is : [‘Gfg’, ‘is’, ‘best’] The original list 2 is : [0, 1, 2, 1, 0, 0, 0, 2, 1, 1, 2, 0] The lists after index elements replacements is : [‘Gfg’, ‘is’, ‘best’, ‘is’, ‘Gfg’, ‘Gfg’, ‘Gfg’, ‘best’, ‘is’, ‘is’, ‘best’, ‘Gfg’])"
   ]
  },
  {
   "cell_type": "code",
   "execution_count": 55,
   "id": "fdd66a71",
   "metadata": {},
   "outputs": [
    {
     "name": "stdout",
     "output_type": "stream",
     "text": [
      "['Gfg', 'is', 'best', 'is', 'Gfg', 'Gfg', 'Gfg', 'best', 'is', 'is', 'best', 'Gfg']\n"
     ]
    }
   ],
   "source": [
    "list1 = ['Gfg', 'is', 'best']\n",
    "list2 = [0, 1, 2, 1, 0, 0, 0, 2, 1, 1, 2, 0]\n",
    "\n",
    "result = [list1[i] for i in list2]\n",
    "print(result)"
   ]
  },
  {
   "cell_type": "markdown",
   "id": "af0f56e8",
   "metadata": {},
   "source": [
    "**38- write python program to Retain records with N occurrences of K(Input : test_list = [(4, 5, 5, 4), (5, 4, 3)], K = 5, N = 2 \n",
    "Output : [(4, 5, 5, 4)]\n",
    "Input : test_list = [(4, 5, 5, 4), (5, 4, 3)], K = 5, N = 3 \n",
    "Output : [] )"
   ]
  },
  {
   "cell_type": "code",
   "execution_count": 60,
   "id": "67b06671",
   "metadata": {},
   "outputs": [
    {
     "name": "stdout",
     "output_type": "stream",
     "text": [
      "[(4, 5, 5, 4)]\n"
     ]
    }
   ],
   "source": [
    "test_list1 = [(4, 5, 5, 4), (5, 4, 3)]\n",
    "filtered_list = []\n",
    "\n",
    "K = 5\n",
    "N = 2\n",
    "for record in test_list1:\n",
    "    count_k = record.count(K)\n",
    "    if count_k == N:\n",
    "      filtered_list.append(record)\n",
    "print(filtered_list)"
   ]
  },
  {
   "cell_type": "markdown",
   "id": "de76f183",
   "metadata": {},
   "source": [
    "**39-write a Python Program to Sort the list according to the column using lambda\n",
    "array = [[1, 3, 3], [2, 1, 2], [3, 2, 1]]\n",
    "Output :\n",
    "Sorted array specific to column 0, [[1, 3, 3], [2, 1, 2], [3, 2, 1]]\n",
    "Sorted array specific to column 1, [[2, 1, 2], [3, 2, 1], [1, 3, 3]]\n",
    "Sorted array specific to column 2, [[3, 2, 1], [2, 1, 2], [1, 3, 3]]"
   ]
  },
  {
   "cell_type": "code",
   "execution_count": 69,
   "id": "dc883308",
   "metadata": {},
   "outputs": [
    {
     "name": "stdout",
     "output_type": "stream",
     "text": [
      "Sorted array specific to column 0, [[1, 3, 3], [2, 1, 2], [3, 2, 1]]\n",
      "Sorted array specific to column 1, [[2, 1, 2], [3, 2, 1], [1, 3, 3]]\n",
      "Sorted array specific to column 2, [[3, 2, 1], [2, 1, 2], [1, 3, 3]]\n"
     ]
    }
   ],
   "source": [
    "array = [[1, 3, 3], [2, 1, 2], [3, 2, 1]]\n",
    "for i in range(len(array)):\n",
    "    print(f'Sorted array specific to column {i}, {sorted(array, key=lambda x: x[i])}')"
   ]
  },
  {
   "cell_type": "markdown",
   "id": "83935528",
   "metadata": {},
   "source": [
    "**40- write a program to Sort Python Dictionaries by Key or Value\n",
    "Input:\n",
    "{'ravi': 10, 'rajnish': 9, 'sanjeev': 15, 'yash': 2, 'suraj': 32}\n",
    "\n",
    "Output: \n",
    "{'rajnish': 9, 'ravi': 10, 'sanjeev': 15, 'suraj': 32, 'yash': 2}"
   ]
  },
  {
   "cell_type": "markdown",
   "metadata": {},
   "source": []
  },
  {
   "cell_type": "code",
   "execution_count": 84,
   "id": "a96db4a0",
   "metadata": {},
   "outputs": [
    {
     "name": "stdout",
     "output_type": "stream",
     "text": [
      "{'rajnish': 9, 'ravi': 10, 'sanjeev': 15, 'suraj': 32, 'yash': 2}\n"
     ]
    }
   ],
   "source": [
    "v ={'ravi': 10, 'rajnish': 9, 'sanjeev': 15, 'yash': 2, 'suraj': 32}\n",
    "print(dict(sorted(v.items(), key=lambda x: x[0])))"
   ]
  },
  {
   "cell_type": "markdown",
   "id": "ec63c23a",
   "metadata": {},
   "source": [
    "**41-write python program to Remove keys with Values Greater than K ( Including mixed values )\n",
    "nput : test_dict = {‘Gfg’ : 3, ‘is’ : 7, ‘best’ : 10, ‘for’ : 6, ‘geeks’ : ‘CS’},\n",
    "K = 7 \n",
    "Output : {‘Gfg’ : 3, ‘for’ : 6, ‘geeks’ : ‘CS’}"
   ]
  },
  {
   "cell_type": "code",
   "execution_count": 104,
   "id": "e39c3a40",
   "metadata": {},
   "outputs": [
    {
     "name": "stdout",
     "output_type": "stream",
     "text": [
      "{'‘Gfg’': 3, 'is': 7, 'for': 6, 'geeks': 'CS'}\n"
     ]
    }
   ],
   "source": [
    "test_dict = {'‘Gfg’': 3, 'is': 7, 'best': 10, 'for': 6, 'geeks': 'CS'}\n",
    "k = 7\n",
    "filtered_dict = {key: value for key, value in test_dict.items() if not (isinstance(value, (int, float)) and value > k)}\n",
    "print(filtered_dict)"
   ]
  },
  {
   "cell_type": "markdown",
   "id": "f143f0fe",
   "metadata": {},
   "source": [
    "**42-Write a Python program to concatenate the following dictionaries to create a new one\n",
    "\n",
    "Sample Dictionary :\n",
    "dic1={1:10, 2:20}\n",
    "dic2={3:30, 4:40}\n",
    "dic3={5:50,6:60}\n",
    "Expected Result : {1: 10, 2: 20, 3: 30, 4: 40, 5: 50, 6: 60}"
   ]
  },
  {
   "cell_type": "code",
   "execution_count": 113,
   "id": "74ffdfea",
   "metadata": {},
   "outputs": [
    {
     "name": "stdout",
     "output_type": "stream",
     "text": [
      "{1: 10, 2: 20, 3: 30, 4: 40, 5: 50, 6: 60}\n"
     ]
    }
   ],
   "source": [
    "def concatenate_dicts(*dicts):\n",
    "    concatenated_dict = {}\n",
    "    for d in dicts:\n",
    "        concatenated_dict.update(d)\n",
    "    return concatenated_dict\n",
    "\n",
    "dic1 = {1: 10, 2: 20}\n",
    "dic2 = {3: 30, 4: 40}\n",
    "dic3 = {5: 50, 6: 60}\n",
    "\n",
    "result_dict = concatenate_dicts(dic1, dic2, dic3)\n",
    "\n",
    "print(result_dict)\n"
   ]
  },
  {
   "cell_type": "markdown",
   "id": "fb04c93c",
   "metadata": {},
   "source": [
    "**43-Write a Python program to iterate over dictionaries using for loops"
   ]
  },
  {
   "cell_type": "code",
   "execution_count": 117,
   "id": "6aebc470",
   "metadata": {},
   "outputs": [
    {
     "name": "stdout",
     "output_type": "stream",
     "text": [
      "key: name\n",
      "key: age\n",
      "key: city\n",
      "value: Alice\n",
      "value: 30\n",
      "value: New York\n",
      "item is name: Alice\n",
      "item is age: 30\n",
      "item is city: New York\n"
     ]
    }
   ],
   "source": [
    "my_dict = {'name': 'Alice', 'age': 30, 'city': 'New York'}\n",
    "\n",
    "for key in my_dict:\n",
    "  print('key:', key)\n",
    "\n",
    "for value in my_dict.values():\n",
    "  print('value:', value)\n",
    "\n",
    "for key, value in my_dict.items():\n",
    "  print(f\"item is {key}: {value}\")"
   ]
  },
  {
   "cell_type": "markdown",
   "id": "5f491a9d",
   "metadata": {},
   "source": [
    "**44- Write a Python script to merge two Python dictionaries"
   ]
  },
  {
   "cell_type": "code",
   "execution_count": 119,
   "id": "b8a14028",
   "metadata": {},
   "outputs": [
    {
     "name": "stdout",
     "output_type": "stream",
     "text": [
      "{'a': 1, 'b': 4, 'c': 3}\n"
     ]
    }
   ],
   "source": [
    "dict1 = {'a': 1, 'b': 2}\n",
    "dict2 = {'c': 3, 'b': 4}\n",
    "\n",
    "merged = dict1.copy()\n",
    "merged.update(dict2)\n",
    "\n",
    "print(merged) \n"
   ]
  },
  {
   "cell_type": "markdown",
   "id": "216fc72d",
   "metadata": {},
   "source": [
    "**45-Write a Python program to get the maximum and minimum values of a dictionary values"
   ]
  },
  {
   "cell_type": "code",
   "execution_count": 122,
   "id": "d6883f5f",
   "metadata": {},
   "outputs": [
    {
     "name": "stdout",
     "output_type": "stream",
     "text": [
      "('c', 10)\n",
      "('a', 2)\n"
     ]
    }
   ],
   "source": [
    "dict1 = {'a': 2, 'b': 5,'c': 10, 'b': 4}\n",
    "print(max(dict1.items()))\n",
    "print(min(dict1.items()))\n"
   ]
  },
  {
   "cell_type": "markdown",
   "id": "b6a53011",
   "metadata": {},
   "source": [
    "**46- Write a Python program to drop empty items from a given dictionary.\n",
    "Original Dictionary:\n",
    "{'c1': 'Red', 'c2': 'Green', 'c3': None}\n",
    "New Dictionary after dropping empty items:\n",
    "{'c1': 'Red', 'c2': 'Green'}"
   ]
  },
  {
   "cell_type": "code",
   "execution_count": 131,
   "id": "b5c6fecf",
   "metadata": {},
   "outputs": [
    {
     "name": "stdout",
     "output_type": "stream",
     "text": [
      "{'c1': 'Red', 'c2': 'Green'}\n",
      "{'c1': 'Red', 'c2': 'Green'}\n"
     ]
    }
   ],
   "source": [
    "d1 ={'c1': 'Red', 'c2': 'Green', 'c3': None}\n",
    "\n",
    "print({key: value for key, value in d1.items() if value})\n",
    "\n",
    "dic ={}\n",
    "for key, value in d1.items():\n",
    "     if value is not None:\n",
    "            dic.update({key: value})\n",
    "print(dic)"
   ]
  },
  {
   "cell_type": "markdown",
   "id": "46d718c7",
   "metadata": {},
   "source": [
    "**47-Write a Python program to create a tuple of numbers and print one item"
   ]
  },
  {
   "cell_type": "code",
   "execution_count": 132,
   "id": "13216ff5",
   "metadata": {},
   "outputs": [
    {
     "name": "stdout",
     "output_type": "stream",
     "text": [
      "4\n"
     ]
    }
   ],
   "source": [
    "numbers_tuple = (1, 2, 3, 4, 5, 6, 7, 8, 9, 10)\n",
    "print(numbers_tuple[3])"
   ]
  },
  {
   "cell_type": "markdown",
   "id": "2be5b56b",
   "metadata": {},
   "source": [
    "**48-Write a Python program to unpack a tuple into several variables"
   ]
  },
  {
   "cell_type": "code",
   "execution_count": 133,
   "id": "595f44be",
   "metadata": {},
   "outputs": [
    {
     "name": "stdout",
     "output_type": "stream",
     "text": [
      "Name: mahmoud\n",
      "Number: 1\n",
      "List: [3, 4, 5]\n"
     ]
    }
   ],
   "source": [
    "my_tuple = (\"mahmoud\", 1, [3, 4, 5])\n",
    "\n",
    "name, number, l = my_tuple\n",
    "\n",
    "print(f\"Name: {name}\")\n",
    "print(f\"Number: {number}\")\n",
    "print(f\"List: {l}\")\n"
   ]
  },
  {
   "cell_type": "markdown",
   "id": "392388a7",
   "metadata": {},
   "source": [
    "**49-Write a Python program to add an item to a tuple"
   ]
  },
  {
   "cell_type": "code",
   "execution_count": 135,
   "id": "54cc092e",
   "metadata": {},
   "outputs": [
    {
     "name": "stdout",
     "output_type": "stream",
     "text": [
      "[1, 2, 3, 4, 5]\n",
      "(1, 2, 3, 4, 5, 6)\n"
     ]
    }
   ],
   "source": [
    "my_tuple = (1, 2, 3, 4, 5)\n",
    "l =list(my_tuple)\n",
    "print(l)\n",
    "l.append(6)\n",
    "my_tuple = tuple(l)\n",
    "print(my_tuple)"
   ]
  },
  {
   "cell_type": "markdown",
   "id": "3e8fd124",
   "metadata": {},
   "source": [
    "**50-Write a Python program to convert a tuple to a string"
   ]
  },
  {
   "cell_type": "code",
   "execution_count": 149,
   "id": "92a71ddc",
   "metadata": {},
   "outputs": [
    {
     "name": "stdout",
     "output_type": "stream",
     "text": [
      "a, 1, b, 2, c, 3\n"
     ]
    }
   ],
   "source": [
    "my_tuple = (\"a\", 1, \"b\", 2, \"c\", 3)\n",
    "print(\", \".join(str(element) for element in my_tuple))"
   ]
  },
  {
   "cell_type": "markdown",
   "id": "f4f64ef4",
   "metadata": {},
   "source": [
    "**51-Write a Python program to convert a list to a tuple"
   ]
  },
  {
   "cell_type": "code",
   "execution_count": 150,
   "id": "210d56d3",
   "metadata": {},
   "outputs": [
    {
     "name": "stdout",
     "output_type": "stream",
     "text": [
      "(1, 2, 3, 4, 5)\n"
     ]
    }
   ],
   "source": [
    "my_list = [1, 2, 3, 4, 5]\n",
    "\n",
    "my_tuple = tuple(my_list)\n",
    "print(my_tuple)\n"
   ]
  },
  {
   "cell_type": "markdown",
   "id": "b1e00ef7",
   "metadata": {},
   "source": [
    "**52-Write a Python program to reverse a tuple"
   ]
  },
  {
   "cell_type": "code",
   "execution_count": 151,
   "id": "f45bfdc7",
   "metadata": {},
   "outputs": [
    {
     "name": "stdout",
     "output_type": "stream",
     "text": [
      "(5, 4, 3, 2, 1)\n"
     ]
    }
   ],
   "source": [
    "my_tuple = (1, 2, 3, 4, 5)\n",
    "print(my_tuple[::-1])"
   ]
  },
  {
   "cell_type": "markdown",
   "id": "3cd347d1",
   "metadata": {},
   "source": [
    "**53-Write a Python program to replace the last value of tuples in a list.\n",
    "Sample list: [(10, 20, 40), (40, 50, 60), (70, 80, 90)]\n",
    "Expected Output: [(10, 20, 100), (40, 50, 100), (70, 80, 100)]"
   ]
  },
  {
   "cell_type": "code",
   "execution_count": 152,
   "id": "3c4a2a4c",
   "metadata": {},
   "outputs": [
    {
     "name": "stdout",
     "output_type": "stream",
     "text": [
      "[(10, 20, 100), (40, 50, 100), (70, 80, 100)]\n"
     ]
    }
   ],
   "source": [
    "sample_list = [(10, 20, 40), (40, 50, 60), (70, 80, 90)]\n",
    "new_value = 100\n",
    "print([(i[:-1] + (new_value,)) for i in sample_list])"
   ]
  },
  {
   "cell_type": "markdown",
   "id": "76bb7b39",
   "metadata": {},
   "source": [
    "**54-Write a Python program to convert a given string list to a tuple\n",
    "Original string: python 3.0\n",
    "<class 'str'>\n",
    "Convert the said string to a tuple:\n",
    "('p', 'y', 't', 'h', 'o', 'n', '3', '.', '0')"
   ]
  },
  {
   "cell_type": "code",
   "execution_count": 153,
   "id": "51951937",
   "metadata": {},
   "outputs": [
    {
     "name": "stdout",
     "output_type": "stream",
     "text": [
      "('p', 'y', 't', 'h', 'o', 'n', ' ', '3', '.', '0')\n"
     ]
    }
   ],
   "source": [
    "original_string = \"python 3.0\"\n",
    "converted_tuple = tuple(original_string)\n",
    "print(converted_tuple)"
   ]
  },
  {
   "cell_type": "markdown",
   "id": "5a1d5d97",
   "metadata": {},
   "source": [
    "**55-Write a Python program to calculate the average value of the numbers in a given tuple of tuples"
   ]
  },
  {
   "cell_type": "code",
   "execution_count": 155,
   "id": "834e7992",
   "metadata": {},
   "outputs": [
    {
     "name": "stdout",
     "output_type": "stream",
     "text": [
      "5.0\n"
     ]
    }
   ],
   "source": [
    "tuple_of_tuples = ((1, 2, 3), (4, 5, 6), (7, 8, 9))\n",
    "my_tuple = [num for sub_tuple in tuple_of_tuples for num in sub_tuple]\n",
    "print(sum(my_tuple)/len(my_tuple))"
   ]
  },
  {
   "cell_type": "markdown",
   "id": "51edab9c",
   "metadata": {},
   "source": [
    "**56-Write a Python program to add member(s) to a set."
   ]
  },
  {
   "cell_type": "code",
   "execution_count": 158,
   "id": "2b65df79",
   "metadata": {},
   "outputs": [
    {
     "name": "stdout",
     "output_type": "stream",
     "text": [
      "{1, 2, 3, 4, 5, 6, 7}\n"
     ]
    }
   ],
   "source": [
    "my_set = {1, 2, 3}\n",
    "my_set.add(4)\n",
    "my_set.update([5, 6, 7])\n",
    "print(my_set)"
   ]
  },
  {
   "cell_type": "markdown",
   "id": "965590cc",
   "metadata": {},
   "source": [
    "**57-Write a Python program to remove an item from a set if it is present in the set."
   ]
  },
  {
   "cell_type": "code",
   "execution_count": 159,
   "id": "866bab28",
   "metadata": {},
   "outputs": [
    {
     "name": "stdout",
     "output_type": "stream",
     "text": [
      "{1, 2, 4, 5}\n"
     ]
    }
   ],
   "source": [
    "my_set = {1, 2, 3, 4, 5}\n",
    "my_set.remove(3)\n",
    "print(my_set)"
   ]
  },
  {
   "cell_type": "markdown",
   "id": "2b7cfed1",
   "metadata": {},
   "source": [
    "**58-Write a Python program to create an intersection,union,difference and symmetric difference of sets"
   ]
  },
  {
   "cell_type": "code",
   "execution_count": 161,
   "id": "7f94b7fe",
   "metadata": {},
   "outputs": [
    {
     "name": "stdout",
     "output_type": "stream",
     "text": [
      "Intersection: {2, 3}\n",
      "Union: {1, 2, 3, 4, 5, 6}\n",
      "Difference (set1 - set2): {1, 4}\n",
      "Difference (set2 - set1): {5, 6}\n",
      "Symmetric Difference: {1, 4, 5, 6}\n"
     ]
    }
   ],
   "source": [
    "def set_operations(set1, set2):\n",
    "  intersection = set1 & set2  # Intersection using the '&' operator\n",
    "  union = set1 | set2  # Union using the '|' operator\n",
    "  difference1 = set1 - set2  # Difference (elements in set1 but not set2)\n",
    "  difference2 = set2 - set1  # Difference (elements in set2 but not set1)\n",
    "  symmetric_difference = set1 ^ set2  # Symmetric difference using the '^' operator\n",
    "\n",
    "  return intersection, union, difference1, difference2, symmetric_difference\n",
    "\n",
    "# Sample sets\n",
    "set1 = {1, 2, 3, 4}\n",
    "set2 = {2, 3, 5, 6}\n",
    "\n",
    "intersection, union, difference1, difference2, symmetric_difference = set_operations(set1, set2)\n",
    "\n",
    "print(\"Intersection:\", intersection)\n",
    "print(\"Union:\", union)\n",
    "print(\"Difference (set1 - set2):\", difference1)\n",
    "print(\"Difference (set2 - set1):\", difference2)\n",
    "print(\"Symmetric Difference:\", symmetric_difference)"
   ]
  },
  {
   "cell_type": "markdown",
   "id": "b94931e2",
   "metadata": {},
   "source": [
    "**59-Write a Python program to find the maximum and minimum values in a set"
   ]
  },
  {
   "cell_type": "code",
   "execution_count": 164,
   "id": "203f9600",
   "metadata": {},
   "outputs": [
    {
     "name": "stdout",
     "output_type": "stream",
     "text": [
      "10\n",
      "1\n"
     ]
    }
   ],
   "source": [
    "my_set = {5,1,10,2,4}\n",
    "print(max(my_set))\n",
    "print(min(my_set))"
   ]
  },
  {
   "cell_type": "markdown",
   "id": "255fd554",
   "metadata": {},
   "source": [
    "**60- Write a Python program that finds all pairs of elements in a list whose sum is equal to a given value."
   ]
  },
  {
   "cell_type": "code",
   "execution_count": 177,
   "id": "c2d94e1f",
   "metadata": {},
   "outputs": [
    {
     "name": "stdout",
     "output_type": "stream",
     "text": [
      "[(8, 2)]\n"
     ]
    }
   ],
   "source": [
    "my_list = [5, 6, 3, 8, 9, 2]\n",
    "target_sum = 10\n",
    "seen = set()\n",
    "pairs = []\n",
    "for element in my_list:\n",
    "    complement = target_sum - element\n",
    "    if complement in seen:\n",
    "      pairs.append((complement, element))\n",
    "    seen.add(element)\n",
    "print(pairs)"
   ]
  }
 ],
 "metadata": {
  "kernelspec": {
   "display_name": "Python 3 (ipykernel)",
   "language": "python",
   "name": "python3"
  },
  "language_info": {
   "codemirror_mode": {
    "name": "ipython",
    "version": 3
   },
   "file_extension": ".py",
   "mimetype": "text/x-python",
   "name": "python",
   "nbconvert_exporter": "python",
   "pygments_lexer": "ipython3",
   "version": "3.12.2"
  }
 },
 "nbformat": 4,
 "nbformat_minor": 5
}
