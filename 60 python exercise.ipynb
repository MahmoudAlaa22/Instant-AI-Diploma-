{
 "cells": [
  {
   "cell_type": "markdown",
   "id": "7ec94bb7",
   "metadata": {},
   "source": [
    "**1-Write a Python program to calculate the length of a string using 2 ways**"
   ]
  },
  {
   "cell_type": "code",
   "execution_count": null,
   "id": "32f3a1f4",
   "metadata": {},
   "outputs": [],
   "source": [
    "text = \"Hello Python\"\n",
    "print(len(text))\n"
   ]
  },
  {
   "cell_type": "code",
   "execution_count": null,
   "id": "5745e27a",
   "metadata": {},
   "outputs": [],
   "source": [
    "count = 0\n",
    "for char in text:\n",
    "    count += 1\n",
    "\n",
    "print(count)"
   ]
  },
  {
   "cell_type": "markdown",
   "id": "d3f08ee6",
   "metadata": {},
   "source": [
    "**2-Write a Python program to get a string made of the first 2 and last 2 characters of a given string. If the string length is less than 2, return the empty string instead (\"##Sample String : 'w3resource' Expected Result : 'w3ce' ##Sample String : 'w3' Expected Result : 'w3w3' ##Sample String : ' w'Expected Result : Empty String)**"
   ]
  },
  {
   "cell_type": "code",
   "execution_count": null,
   "id": "2a1b64f4",
   "metadata": {},
   "outputs": [],
   "source": [
    "sampleStrings = ['w3resource', 'w3', 'w']\n",
    "\n",
    "for sample in sampleStrings:\n",
    "    if len(sample) < 2:\n",
    "        print(\"Empty String\")\n",
    "    else:    \n",
    "        print(sample[:2] + sample[-2:])\n"
   ]
  },
  {
   "cell_type": "markdown",
   "id": "8ef44be4",
   "metadata": {},
   "source": [
    "**3-Write a Python program to add 'ing' at the end of a given string (length should be at least 3). If the given string already ends with 'ing', add 'ly' instead. If the string length of the given string is less than 3, leave it unchanged.(Sample String : 'abc' Expected Result : 'abcing')**"
   ]
  },
  {
   "cell_type": "code",
   "execution_count": null,
   "id": "e16d5ae9",
   "metadata": {},
   "outputs": [],
   "source": [
    "sample_string = input()\n",
    "\n",
    "if len(sample_string) >= 3:\n",
    "    if sample_string.endswith(\"ing\"):\n",
    "         result = sample_string + \"ly\"\n",
    "    else:\n",
    "         result = sample_string + \"ing\"\n",
    "else:\n",
    "    result = sample_string\n",
    "\n",
    "print(result)"
   ]
  },
  {
   "cell_type": "markdown",
   "id": "337f245b",
   "metadata": {},
   "source": [
    "**4-Write a Python function that takes a list of words and return the longest word and the length of the longest on (Longest word: Exercises Length of the longest word: 9)**"
   ]
  },
  {
   "cell_type": "code",
   "execution_count": null,
   "id": "965ed565",
   "metadata": {},
   "outputs": [],
   "source": [
    "def longest_word(words):\n",
    "    max_length = 0\n",
    "    longest = \"\"\n",
    "    for word in words:\n",
    "        if len(word) > max_length:\n",
    "            max_length = len(word)\n",
    "            longest = word\n",
    "    return longest, max_length\n",
    "\n",
    "# Test the function\n",
    "word_list = [\"Python\", \"programming\", \"is\", \"fun\", \"Exercises\"]\n",
    "longest, length = longest_word(word_list)\n",
    "print(\"Longest word:\", longest)\n",
    "print(\"Length of the longest word:\", length)\n"
   ]
  },
  {
   "cell_type": "markdown",
   "id": "164d836b",
   "metadata": {},
   "source": [
    "**5-Write a Python program to change a given string to a newly string where the first and last chars have been exchanged using 2 ways (Sample String:abca  Expected Result:ebce)**"
   ]
  },
  {
   "cell_type": "code",
   "execution_count": null,
   "id": "f89984e3",
   "metadata": {},
   "outputs": [],
   "source": [
    "sample_string = input()\n",
    "\n",
    "if len(sample_string) >= 2:\n",
    "    result = sample_string[-1] + sample_string[1:-1] + sample_string[0]\n",
    "    print(result)\n",
    "else:\n",
    "    print(sample_string)\n"
   ]
  },
  {
   "cell_type": "code",
   "execution_count": null,
   "id": "ea1acc11",
   "metadata": {},
   "outputs": [],
   "source": [
    "sample_string = input()\n",
    "\n",
    "if len(sample_string) >= 2:\n",
    "    result = sample_string[-1] + sample_string[1:len(sample_string)-1] + sample_string[0]\n",
    "    print(result)\n",
    "else:\n",
    "    print(sample_string)\n"
   ]
  },
  {
   "cell_type": "markdown",
   "id": "d0e46327",
   "metadata": {},
   "source": [
    "**6-Write a Python program to remove characters that have odd index values in a given string (Sample String:abca Expected Result:ac)**"
   ]
  },
  {
   "cell_type": "code",
   "execution_count": null,
   "id": "7af4c074",
   "metadata": {},
   "outputs": [],
   "source": [
    "# Sample String\n",
    "sample_string = input()\n",
    "\n",
    "# Removing characters with odd index values\n",
    "result = sample_string[::2]\n",
    "\n",
    "# Printing the result\n",
    "print(\"Result:\", result)\n"
   ]
  },
  {
   "cell_type": "markdown",
   "id": "9ca46370",
   "metadata": {},
   "source": [
    "**7-Write a Python program to count the occurrences of each word in a given sentence (Sample String:amr and ahmed are frindes but amr is the tallest Expected Result:2)**"
   ]
  },
  {
   "cell_type": "code",
   "execution_count": null,
   "id": "7113e2b3",
   "metadata": {},
   "outputs": [],
   "source": [
    "# Sample String\n",
    "sample_string = \"amr and ahmed are friends but amr is the tallest\"\n",
    "\n",
    "# Split the sentence into words\n",
    "words = sample_string.split()\n",
    "\n",
    "# Initialize an empty dictionary to store word counts\n",
    "word_counts = {}\n",
    "\n",
    "# Count occurrences of each word\n",
    "for word in words:\n",
    "    if word in word_counts:\n",
    "        word_counts[word] += 1\n",
    "    else:\n",
    "        word_counts[word] = 1\n",
    "\n",
    "# Print the word counts\n",
    "for word, count in word_counts.items():\n",
    "    print(f\"{word}: {count}\")"
   ]
  },
  {
   "cell_type": "code",
   "execution_count": null,
   "id": "27f823f5",
   "metadata": {},
   "outputs": [],
   "source": [
    "sample_string = \"amr and ahmed are friends but amr is the tallest\"\n",
    "result = sample_string.count(\"amr\")\n",
    "print(result) "
   ]
  },
  {
   "cell_type": "markdown",
   "id": "b9ce1e2a",
   "metadata": {},
   "source": [
    "**8-Write a Python script that takes input from the user and displays that input back in upper and lower cases**"
   ]
  },
  {
   "cell_type": "code",
   "execution_count": null,
   "id": "7baaa530",
   "metadata": {},
   "outputs": [],
   "source": [
    "# Take input from the user\n",
    "user_input = input(\"Enter a string: \")\n",
    "\n",
    "# Convert the input to uppercase and lowercase\n",
    "upper_case = user_input.upper()\n",
    "lower_case = user_input.lower()\n",
    "\n",
    "# Display the input back in upper and lower cases\n",
    "print(\"Input in uppercase:\", upper_case)\n",
    "print(\"Input in lowercase:\", lower_case)\n"
   ]
  },
  {
   "cell_type": "markdown",
   "id": "8ef11c2e",
   "metadata": {},
   "source": [
    "**9-Write a Python function to reverse a string if its length is a multiple of 4**"
   ]
  },
  {
   "cell_type": "code",
   "execution_count": null,
   "id": "86f65d24",
   "metadata": {},
   "outputs": [],
   "source": [
    "def reverse_string_if_multiple_of_4(input_str):\n",
    "    if len(input_str) % 4 == 0:\n",
    "        return input_str[::-1]\n",
    "    else:\n",
    "        return input_str\n",
    "\n",
    "# Test the function\n",
    "input_str1 = \"abcdef\"\n",
    "input_str2 = \"python\"\n",
    "input_str3 = \"programming\"\n",
    "\n",
    "print(reverse_string_if_multiple_of_4(input_str1))\n",
    "print(reverse_string_if_multiple_of_4(input_str2))\n",
    "print(reverse_string_if_multiple_of_4(input_str3))"
   ]
  },
  {
   "cell_type": "markdown",
   "id": "be5cb4c0",
   "metadata": {},
   "source": [
    "**10- Write a Python program to remove a newline in Python**"
   ]
  },
  {
   "cell_type": "code",
   "execution_count": null,
   "id": "2c617261",
   "metadata": {},
   "outputs": [],
   "source": [
    "# Original string with newline at the end\n",
    "original_string = \"Hello, world!\\n\"\n",
    "\n",
    "# Removing newline character using rstrip()\n",
    "string_without_newline = original_string.rstrip(\"\\n\")\n",
    "\n",
    "# Print the string without newline\n",
    "print(\"String without newline:\", string_without_newline)"
   ]
  },
  {
   "cell_type": "markdown",
   "id": "25c738b7",
   "metadata": {},
   "source": [
    "**11-Write a Python program to check whether a string starts with specified characters**"
   ]
  },
  {
   "cell_type": "code",
   "execution_count": null,
   "id": "9c6ffc45",
   "metadata": {},
   "outputs": [],
   "source": [
    "# Input string\n",
    "string = \"Hello, world!\"\n",
    "\n",
    "# Specified characters to check\n",
    "prefix1 = \"Hello\"\n",
    "prefix2 = \"Python\"\n",
    "\n",
    "# Check if the string starts with specified characters\n",
    "is_prefix1 = string.startswith(prefix1)\n",
    "is_prefix2 = string.startswith(prefix2)\n",
    "\n",
    "# Print the results\n",
    "print(f\"The string starts with '{prefix1}': {is_prefix1}\")\n",
    "print(f\"The string starts with '{prefix2}': {is_prefix2}\")"
   ]
  },
  {
   "cell_type": "markdown",
   "id": "cb819bf4",
   "metadata": {},
   "source": [
    "**12- Write a Python program to add prefix text to all of the lines in a string**"
   ]
  },
  {
   "cell_type": "code",
   "execution_count": null,
   "id": "9440a08b",
   "metadata": {},
   "outputs": [],
   "source": [
    "# Input string with multiple lines\n",
    "input_string = \"\"\"This is line 1\n",
    "This is line 2\n",
    "This is line 3\"\"\"\n",
    "\n",
    "# Prefix text to add to each line\n",
    "prefix_text = \"Prefix: \"\n",
    "\n",
    "# Split the string into lines\n",
    "lines = input_string.split('\\n')\n",
    "\n",
    "# Add prefix text to each line\n",
    "prefixed_lines = [prefix_text + line for line in lines]\n",
    "\n",
    "# Join the lines back together with '\\n' separator\n",
    "result = '\\n'.join(prefixed_lines)\n",
    "\n",
    "# Print the result\n",
    "print(result)"
   ]
  },
  {
   "cell_type": "markdown",
   "id": "eda9c617",
   "metadata": {},
   "source": [
    "**13-Write a Python program to print the following numbers up to 2 decimal places**"
   ]
  },
  {
   "cell_type": "code",
   "execution_count": null,
   "id": "76c0ca57",
   "metadata": {},
   "outputs": [],
   "source": [
    "# Numbers to print\n",
    "numbers = [3.14159, 2.71828, 1.41421]\n",
    "\n",
    "for number in numbers:\n",
    "    print(round(number, 2))"
   ]
  },
  {
   "cell_type": "markdown",
   "id": "77695704",
   "metadata": {},
   "source": [
    "**14-Write a Python program to print the following numbers up to 2 decimal places with a sign**"
   ]
  },
  {
   "cell_type": "code",
   "execution_count": null,
   "id": "530454bf",
   "metadata": {},
   "outputs": [],
   "source": [
    "# Numbers to print\n",
    "numbers = [3.14159, -2.71828, 1.41421]\n",
    "\n",
    "for number in numbers:\n",
    "    if number >= 0:\n",
    "        print(\"+{:.2f}\".format(number))\n",
    "    else:\n",
    "        print(\"{:.2f}\".format(number))"
   ]
  },
  {
   "cell_type": "markdown",
   "id": "005cb530",
   "metadata": {},
   "source": [
    "**15-Write a Python program to display a number with a comma separator**"
   ]
  },
  {
   "cell_type": "code",
   "execution_count": null,
   "id": "b9f714b5",
   "metadata": {},
   "outputs": [
    {
     "name": "stdout",
     "output_type": "stream",
     "text": [
      "Formatted number: 1,000,000\n"
     ]
    }
   ],
   "source": [
    "# Number to display\n",
    "number = 1000000\n",
    "\n",
    "# Display the number with a comma separator\n",
    "formatted_number = \"{:,}\".format(number)\n",
    "\n",
    "print(\"Formatted number:\", formatted_number)"
   ]
  },
  {
   "cell_type": "markdown",
   "id": "58be4d7a",
   "metadata": {},
   "source": [
    "**16-Write a Python program to reverse a string using 2 ways**"
   ]
  },
  {
   "cell_type": "code",
   "execution_count": null,
   "id": "6855b97c",
   "metadata": {},
   "outputs": [],
   "source": [
    "original_string = input()\n",
    "\n",
    "# Reversed string using string slicing\n",
    "reversed_string = original_string[::-1]\n",
    "\n",
    "# Print the reversed string\n",
    "print(reversed_string)"
   ]
  },
  {
   "cell_type": "code",
   "execution_count": null,
   "id": "87b760ff",
   "metadata": {},
   "outputs": [],
   "source": [
    "original_string = input()\n",
    "\n",
    "# Reversed string using the reversed() function and joining\n",
    "reversed_string = ''.join(reversed(original_string))\n",
    "\n",
    "print(reversed_string)"
   ]
  },
  {
   "cell_type": "markdown",
   "id": "3febb5f4",
   "metadata": {},
   "source": [
    "**17-Write a Python program to count repeated characters in a string (hint:use dictionary)**"
   ]
  },
  {
   "cell_type": "code",
   "execution_count": null,
   "id": "5b89a422",
   "metadata": {},
   "outputs": [
    {
     "name": "stdout",
     "output_type": "stream",
     "text": [
      "'m': 2\n",
      "'a': 4\n"
     ]
    }
   ],
   "source": [
    "input_string = input()\n",
    "\n",
    "char_count = {}\n",
    "\n",
    "# Count occurrences of each character in the string\n",
    "for char in input_string:\n",
    "    if char in char_count:\n",
    "        char_count[char] += 1\n",
    "    else:\n",
    "        char_count[char] = 1\n",
    "\n",
    "# Filter out characters with count > 1\n",
    "repeated_chars = {char: count for char, count in char_count.items() if count > 1}\n",
    "\n",
    "# Display repeated characters and their counts\n",
    "for char, count in repeated_chars.items():\n",
    "    print(f\"'{char}': {count}\")"
   ]
  },
  {
   "cell_type": "markdown",
   "id": "c8ebd2c5",
   "metadata": {},
   "source": [
    "**18-Write a Python program to find the first non-repeating character in a given string**"
   ]
  },
  {
   "cell_type": "code",
   "execution_count": null,
   "id": "d5c3783e",
   "metadata": {},
   "outputs": [],
   "source": [
    "input_string = input(\"Enter a string: \")\n",
    "\n",
    "char_count = {}\n",
    "\n",
    "# Count occurrences of each character in the string\n",
    "for char in input_string:\n",
    "    if char in char_count:\n",
    "        char_count[char] += 1\n",
    "    else:\n",
    "        char_count[char] = 1\n",
    "\n",
    "# Find the first non-repeating character\n",
    "first_non_repeating = None\n",
    "for char in input_string:\n",
    "    if char_count[char] == 1:\n",
    "        first_non_repeating = char\n",
    "        break\n",
    "\n",
    "if first_non_repeating:\n",
    "    print(first_non_repeating)\n",
    "else:\n",
    "    print()"
   ]
  },
  {
   "cell_type": "markdown",
   "id": "4b6fb8c7",
   "metadata": {},
   "source": [
    "**19-Write a Python program to remove spaces from a given string**"
   ]
  },
  {
   "cell_type": "code",
   "execution_count": null,
   "id": "a1852e21",
   "metadata": {},
   "outputs": [],
   "source": [
    "# Input string\n",
    "input_string = input()\n",
    "\n",
    "# Remove spaces\n",
    "string_without_spaces = input_string.replace(\" \", \"\")\n",
    "\n",
    "# Print the result\n",
    "print(string_without_spaces)\n"
   ]
  },
  {
   "cell_type": "markdown",
   "id": "889c881e",
   "metadata": {},
   "source": [
    "**20-Write a Python program to count the number of non-empty substrings of a given string**"
   ]
  },
  {
   "cell_type": "code",
   "execution_count": null,
   "id": "ce641a5a",
   "metadata": {},
   "outputs": [
    {
     "name": "stdout",
     "output_type": "stream",
     "text": [
      "171\n"
     ]
    }
   ],
   "source": [
    "input_string = input()\n",
    "\n",
    "substring_count = 0\n",
    "\n",
    "for i in range(len(input_string)):\n",
    "    for j in range(i + 1, len(input_string) + 1):\n",
    "        substring = input_string[i:j]\n",
    "        if substring:  # Check if the substring is non-empty\n",
    "            substring_count += 1\n",
    "\n",
    "print(substring_count)"
   ]
  },
  {
   "cell_type": "markdown",
   "id": "66de0f0e",
   "metadata": {},
   "source": [
    "**21-write a Python program to swap first and last element of any list.**"
   ]
  },
  {
   "cell_type": "code",
   "execution_count": null,
   "id": "7cce0e18",
   "metadata": {},
   "outputs": [
    {
     "name": "stdout",
     "output_type": "stream",
     "text": [
      "[8, 2, 3, 4, 5, 6, 7, 1]\n"
     ]
    }
   ],
   "source": [
    "input_list = input().split()\n",
    "\n",
    "input_list = [int(element) for element in input_list]\n",
    "\n",
    "if input_list:\n",
    "    input_list[0], input_list[-1] = input_list[-1], input_list[0]\n",
    "\n",
    "print(input_list)"
   ]
  },
  {
   "cell_type": "markdown",
   "id": "afb3dab4",
   "metadata": {},
   "source": [
    "**22-Given a list in Python and provided the positions of the elements, write a program to swap the two elements in the list. (Input : List = [23, 65, 19, 90], pos1 = 1, pos2 = 3, Output : [19, 65, 23, 90])**"
   ]
  },
  {
   "cell_type": "code",
   "execution_count": null,
   "id": "d73c69ee",
   "metadata": {},
   "outputs": [],
   "source": [
    "input_list = [23, 65, 19, 90]\n",
    "\n",
    "pos1 = int(input())\n",
    "pos2 = int(input())\n",
    "\n",
    "if 0 < pos1 <= len(input_list) and 0 < pos2 <= len(input_list):\n",
    "    # Swap the elements at the specified positions\n",
    "    input_list[pos1 - 1], input_list[pos2 - 1] = input_list[pos2 - 1], input_list[pos1 - 1]\n",
    "    print(\"List after swapping elements at positions\", pos1, \"and\", pos2, \":\", input_list)\n",
    "else:\n",
    "    print(\"Invalid positions provided.\")"
   ]
  },
  {
   "cell_type": "markdown",
   "id": "f67b216b",
   "metadata": {},
   "source": [
    "**23- search for the all ways to know the length of the list**"
   ]
  },
  {
   "cell_type": "code",
   "execution_count": null,
   "id": "4971f2c8",
   "metadata": {},
   "outputs": [],
   "source": [
    "my_list = [1, 2, 3, 4, 5]\n",
    "length = len(my_list)\n",
    "print(length)"
   ]
  },
  {
   "cell_type": "code",
   "execution_count": null,
   "id": "c391b768",
   "metadata": {},
   "outputs": [],
   "source": [
    "my_list = [1, 2, 3, 4, 5]\n",
    "count = 0\n",
    "for _ in my_list:\n",
    "    count += 1\n",
    "print(count)"
   ]
  },
  {
   "cell_type": "code",
   "execution_count": null,
   "id": "ab71d8b8",
   "metadata": {},
   "outputs": [],
   "source": [
    "my_list = [1, 2, 3, 4, 5]\n",
    "length = sum(1 for _ in my_list)\n",
    "print(length)"
   ]
  },
  {
   "cell_type": "markdown",
   "id": "f6a9e491",
   "metadata": {},
   "source": [
    "**24-write a Python code to find the Maximum number of list of numbers.**"
   ]
  },
  {
   "cell_type": "code",
   "execution_count": null,
   "id": "8f2160df",
   "metadata": {},
   "outputs": [],
   "source": [
    "numbers = [23, 65, 19, 90]\n",
    "maximum_number = max(numbers)\n",
    "print(maximum_number)"
   ]
  },
  {
   "cell_type": "markdown",
   "id": "afefad9e",
   "metadata": {},
   "source": [
    "**25-write a Python code to find the Minimum number of list of numbers.**"
   ]
  },
  {
   "cell_type": "code",
   "execution_count": null,
   "id": "d0e85660",
   "metadata": {},
   "outputs": [],
   "source": [
    "numbers = [23, 65, 19, 90]\n",
    "minimum_number = min(numbers)\n",
    "print(minimum_number)"
   ]
  },
  {
   "cell_type": "markdown",
   "id": "0a30a674",
   "metadata": {},
   "source": [
    "**26-search for if an elem is existing in list**"
   ]
  },
  {
   "cell_type": "code",
   "execution_count": null,
   "id": "1c4c8afe",
   "metadata": {},
   "outputs": [],
   "source": [
    "my_list = [1, 2, 3, 4, 5]\n",
    "element = 3\n",
    "\n",
    "if element in my_list:\n",
    "    print(f\"{element} exists in the list.\")\n",
    "else:\n",
    "    print(f\"{element} does not exist in the list.\")"
   ]
  },
  {
   "cell_type": "markdown",
   "id": "caca205b",
   "metadata": {},
   "source": [
    "**27- clear python list using different ways**"
   ]
  },
  {
   "cell_type": "code",
   "execution_count": null,
   "id": "fe14b417",
   "metadata": {},
   "outputs": [],
   "source": [
    "# Using the clear() method: The clear() method clears all elements from the list, leaving it empty.\n",
    "my_list = [1, 2, 3, 4, 5]\n",
    "my_list.clear()\n",
    "print(\"List after clearing using clear():\", my_list)"
   ]
  },
  {
   "cell_type": "code",
   "execution_count": null,
   "id": "aebe704c",
   "metadata": {},
   "outputs": [],
   "source": [
    "# Using slicing: You can use list slicing to replace all elements with an empty slice.\n",
    "my_list = [1, 2, 3, 4, 5]\n",
    "my_list[:] = []\n",
    "print(\"List after clearing using slicing:\", my_list)"
   ]
  },
  {
   "cell_type": "code",
   "execution_count": null,
   "id": "e8f15b34",
   "metadata": {},
   "outputs": [],
   "source": [
    "# Using pop() method in a loop: You can repeatedly use pop() method to remove elements until the list becomes empty.\n",
    "my_list = [1, 2, 3, 4, 5]\n",
    "while my_list:\n",
    "    my_list.pop()\n",
    "print(\"List after clearing using pop() method in a loop:\", my_list)\n"
   ]
  },
  {
   "cell_type": "code",
   "execution_count": null,
   "id": "815dc1cc",
   "metadata": {},
   "outputs": [],
   "source": [
    "# Using remove() method in a loop: You can repeatedly use remove() method to remove elements until the list becomes empty.\n",
    "\n",
    "my_list = [1, 2, 3, 4, 5]\n",
    "while my_list:\n",
    "    my_list.remove(my_list[0])\n",
    "print(\"List after clearing using remove() method in a loop:\", my_list)"
   ]
  },
  {
   "cell_type": "markdown",
   "id": "6c17fd55",
   "metadata": {},
   "source": [
    "**28-remove duplicated elements from a list**"
   ]
  },
  {
   "cell_type": "code",
   "execution_count": null,
   "id": "3033bf75",
   "metadata": {},
   "outputs": [
    {
     "name": "stdout",
     "output_type": "stream",
     "text": [
      "List after removing duplicates: [1, 2, 3, 4, 5, 6, 7, 8, 9]\n"
     ]
    }
   ],
   "source": [
    "# Using a loop and a new list\n",
    "original_list = [1, 2, 3, 3, 4, 5, 5, 6, 7, 8, 8, 9]\n",
    "\n",
    "unique_list = []\n",
    "for item in original_list:\n",
    "    if item not in unique_list:\n",
    "        unique_list.append(item)\n",
    "\n",
    "print(\"List after removing duplicates:\", unique_list)"
   ]
  },
  {
   "cell_type": "code",
   "execution_count": null,
   "id": "fa826101",
   "metadata": {},
   "outputs": [],
   "source": [
    "# Using set() to remove duplicates (may not preserve original order):\n",
    "original_list = [1, 2, 3, 3, 4, 5, 5, 6, 7, 8, 8, 9]\n",
    "unique_list = list(set(original_list))\n",
    "\n",
    "print(\"List after removing duplicates:\", unique_list)"
   ]
  },
  {
   "cell_type": "markdown",
   "id": "38ddd5e7",
   "metadata": {},
   "source": [
    "**29-Given list values and keys list, convert these values to key value pairs in form of list of dictionaries. (Input : test_list = [“Gfg”, 3, “is”, 8], key_list = [“name”, “id”], Output : [{‘name’: ‘Gfg’, ‘id’: 3}, {‘name’: ‘is’, ‘id’: 8}])**"
   ]
  },
  {
   "cell_type": "code",
   "execution_count": null,
   "id": "11cc1ee4",
   "metadata": {},
   "outputs": [],
   "source": [
    "test_list = [\"Gfg\", 3, \"is\", 8]\n",
    "key_list = [\"name\", \"id\"]\n",
    "\n",
    "for i in range(max(len(test_list), len(key_list))):\n",
    "    key = key_list[i % len(key_list)]\n",
    "    value = test_list[i % len(test_list)]\n",
    "    result.append({key: value})\n",
    "\n",
    "print(\"Output:\", result)"
   ]
  },
  {
   "cell_type": "code",
   "execution_count": null,
   "id": "2f2d5c77",
   "metadata": {},
   "outputs": [],
   "source": [
    "test_list = [\"Gfg\", 3, \"is\", 8]\n",
    "key_list = [\"name\", \"id\"]\n",
    "\n",
    "result = [{key_list[i]: test_list[i], key_list[i + 1]: test_list[i + 1]} for i in range(0, len(test_list), len(key_list))]\n",
    "\n",
    "print(\"Output:\", result)"
   ]
  },
  {
   "cell_type": "markdown",
   "id": "90b79499",
   "metadata": {},
   "source": [
    "**30-write a python program to count unique values inside a list using different ways**"
   ]
  },
  {
   "cell_type": "code",
   "execution_count": null,
   "id": "295a2450",
   "metadata": {},
   "outputs": [],
   "source": [
    "my_list = [1, 2, 3, 4, 5, 1, 2, 3]\n",
    "\n",
    "unique_values = set(my_list)\n",
    "count_unique = len(unique_values)\n",
    "\n",
    "print(count_unique)"
   ]
  },
  {
   "cell_type": "markdown",
   "id": "0b123d97",
   "metadata": {},
   "source": [
    "**31-write a python program Extract all elements with Frequency greater than K (Input : test_list = [4, 6, 4, 3, 3, 4, 3, 4, 3, 8], K = 3, Output : [4, 3] )**"
   ]
  },
  {
   "cell_type": "code",
   "execution_count": null,
   "id": "1154db01",
   "metadata": {},
   "outputs": [
    {
     "name": "stdout",
     "output_type": "stream",
     "text": [
      "[4, 3]\n"
     ]
    }
   ],
   "source": [
    "test_list = [4, 6, 4, 3, 3, 4, 3, 4, 3, 8]\n",
    "K = 3\n",
    "\n",
    "frequency_dict = {}\n",
    "for num in test_list:\n",
    "    if num in frequency_dict:\n",
    "        frequency_dict[num] += 1\n",
    "    else:\n",
    "        frequency_dict[num] = 1\n",
    "\n",
    "result = [num for num, freq in frequency_dict.items() if freq > K]\n",
    "\n",
    "print(result)"
   ]
  },
  {
   "cell_type": "markdown",
   "id": "f6b23cc5",
   "metadata": {},
   "source": [
    "**32-write a python program to find the Strongest Neighbour (Input: 1 2 2 3 4 5, Output: 2 2 3 4 5)**"
   ]
  },
  {
   "cell_type": "code",
   "execution_count": null,
   "id": "6a1dd12b",
   "metadata": {},
   "outputs": [],
   "source": [
    "input_list = list(map(int, input().split()))\n",
    "\n",
    "strongest_neighbors = []\n",
    "for i in range(1, len(input_list) - 1):\n",
    "    if input_list[i] > input_list[i - 1] and input_list[i] > input_list[i + 1]:\n",
    "        strongest_neighbors.append(input_list[i])\n",
    "\n",
    "print(' '.join(map(str, strongest_neighbors)))"
   ]
  },
  {
   "cell_type": "markdown",
   "id": "60e0c7ab",
   "metadata": {},
   "source": [
    "**33-write a Python Program to print all Possible Combinations from the three Digits Input: [1, 2, 3]**\n",
    "**Output: 1 2 3 ## 1 3 2 ## 2 1 3 ## 2 3 1 ## 3 1 2 ## 3 2 1**\n",
    "- **Permutations**"
   ]
  },
  {
   "cell_type": "code",
   "execution_count": null,
   "id": "72741ff6",
   "metadata": {},
   "outputs": [
    {
     "name": "stdout",
     "output_type": "stream",
     "text": [
      "1 2 3\n",
      "1 3 2\n",
      "2 1 3\n",
      "2 3 1\n",
      "3 1 2\n",
      "3 2 1\n"
     ]
    }
   ],
   "source": [
    "from itertools import permutations\n",
    "\n",
    "input_list = [1, 2, 3]\n",
    "permutation_list = permutations(input_list)\n",
    "\n",
    "for permutation in permutation_list:\n",
    "    print(' '.join(map(str, permutation)))"
   ]
  },
  {
   "cell_type": "code",
   "execution_count": null,
   "id": "b98d9a3c",
   "metadata": {},
   "outputs": [
    {
     "name": "stdout",
     "output_type": "stream",
     "text": [
      "1 2 3\n",
      "1 3 2\n",
      "2 1 3\n",
      "2 3 1\n",
      "3 1 2\n",
      "3 2 1\n"
     ]
    }
   ],
   "source": [
    "input_list = [1, 2, 3]\n",
    "\n",
    "for i in input_list:\n",
    "    for j in input_list:\n",
    "        if j != i:\n",
    "            for k in input_list:\n",
    "                if k != i and k != j:\n",
    "                    print(i, j, k)"
   ]
  },
  {
   "cell_type": "markdown",
   "id": "70aa6ff5",
   "metadata": {},
   "source": [
    "**34-write a Python program to find all the Combinations in the list with the given condition (Input: test_list = [1,2,3],Output: [1], [1, 2], [1, 2, 3], [1, 3], [2], [2, 3], [3])**\n",
    "- **Combinations**"
   ]
  },
  {
   "cell_type": "code",
   "execution_count": null,
   "id": "f7e6044c",
   "metadata": {},
   "outputs": [],
   "source": [
    "from itertools import combinations\n",
    "\n",
    "test_list = [1, 2, 3]\n",
    "\n",
    "combinations_list = []\n",
    "for r in range(1, len(test_list) + 1):\n",
    "    combinations_list.extend(combinations(test_list, r))\n",
    "\n",
    "for combination in combinations_list:\n",
    "    print(list(combination))"
   ]
  },
  {
   "cell_type": "markdown",
   "id": "0ece839c",
   "metadata": {},
   "source": [
    "**35-write a Python program to get all unique combinations of two Lists (List_1 = [\"a\",\"b\"], List_2 = [1,2], Unique_combination = [[('a',1),('b',2)],[('a',2),('b',1)]] )**"
   ]
  },
  {
   "cell_type": "code",
   "execution_count": null,
   "id": "a85a8c04",
   "metadata": {},
   "outputs": [],
   "source": [
    "from itertools import product\n",
    "\n",
    "List_1 = [\"a\", \"b\"]\n",
    "List_2 = [1, 2]\n",
    "\n",
    "all_combinations = list(product(List_1, List_2))\n",
    "\n",
    "unique_combinations = []\n",
    "for combination in all_combinations:\n",
    "    if combination[::-1] not in unique_combinations:\n",
    "        unique_combinations.append(combination)\n",
    "\n",
    "print(unique_combinations)\n"
   ]
  },
  {
   "cell_type": "markdown",
   "id": "e142bdc5",
   "metadata": {},
   "source": [
    "**36-Remove all the occurrences of an element from a list in Python (Input : 1 1 2 3 4 5 1 2 1, Output : 2 3 4 5 2)**"
   ]
  },
  {
   "cell_type": "code",
   "execution_count": null,
   "id": "d31d7840",
   "metadata": {},
   "outputs": [],
   "source": [
    "input_list = [1, 1, 2, 3, 4, 5, 1, 2, 1]\n",
    "element_to_remove = 1\n",
    "\n",
    "output_list = [elem for elem in input_list if elem != element_to_remove]\n",
    "\n",
    "print(output_list)\n"
   ]
  },
  {
   "cell_type": "code",
   "execution_count": null,
   "id": "0d6aa16b",
   "metadata": {},
   "outputs": [],
   "source": [
    "input_list = [1, 1, 2, 3, 4, 5, 1, 2, 1]\n",
    "element_to_remove = 1\n",
    "\n",
    "while element_to_remove in input_list:\n",
    "    input_list.remove(element_to_remove)\n",
    "\n",
    "print(input_list)"
   ]
  },
  {
   "cell_type": "markdown",
   "id": "39391027",
   "metadata": {},
   "source": [
    "**37-write a python program to Replace index elements with elements in Other List (The original list 1 is : [‘Gfg’, ‘is’, ‘best’] The original list 2 is : [0, 1, 2, 1, 0, 0, 0, 2, 1, 1, 2, 0] The lists after index elements replacements is : [‘Gfg’, ‘is’, ‘best’, ‘is’, ‘Gfg’, ‘Gfg’, ‘Gfg’, ‘best’, ‘is’, ‘is’, ‘best’, ‘Gfg’])**"
   ]
  },
  {
   "cell_type": "code",
   "execution_count": null,
   "id": "1f8b2ab9",
   "metadata": {},
   "outputs": [],
   "source": [
    "original_list_1 = ['Gfg', 'is', 'best']\n",
    "original_list_2 = [0, 1, 2, 1, 0, 0, 0, 2, 1, 1, 2, 0]\n",
    "\n",
    "replaced_list = original_list_1.copy()  # Make a copy to preserve original list\n",
    "for i, index in enumerate(original_list_2):\n",
    "    if index < len(replaced_list):\n",
    "        replaced_list[index] = original_list_2[i]\n",
    "\n",
    "print(replaced_list)"
   ]
  },
  {
   "cell_type": "markdown",
   "id": "bd01a799",
   "metadata": {},
   "source": [
    "**38- write python program to retain records with N occurrences of K(Input : test_list = [(4, 5, 5, 4), (5, 4, 3)], K = 5, N = 2, Output : [(4, 5, 5, 4)], Input : test_list = [(4, 5, 5, 4), (5, 4, 3)], K = 5, N = 3, Output : [] )**"
   ]
  },
  {
   "cell_type": "code",
   "execution_count": null,
   "id": "c8d4176b",
   "metadata": {},
   "outputs": [],
   "source": [
    "test_list = [(4, 5, 5, 4), (5, 4, 3)]\n",
    "K = 5\n",
    "N = 2\n",
    "\n",
    "# Put in result list all tuples that have N elements of K\n",
    "result = [tuple_item for tuple_item in test_list if tuple_item.count(K) == N]\n",
    "\n",
    "print(result)"
   ]
  },
  {
   "cell_type": "markdown",
   "id": "29ee8a59",
   "metadata": {},
   "source": [
    "**39-write a Python Program to Sort the list according to the column using lambda, array = [[1, 3, 3], [2, 1, 2], [3, 2, 1]]**\n",
    "\n",
    "**Output:**\n",
    "- **Sorted array specific to column 0, [[1, 3, 3], [2, 1, 2], [3, 2, 1]]**\n",
    "- **Sorted array specific to column 1, [[2, 1, 2], [3, 2, 1], [1, 3, 3]]**\n",
    "- **Sorted array specific to column 2, [[3, 2, 1], [2, 1, 2], [1, 3, 3]]**"
   ]
  },
  {
   "cell_type": "code",
   "execution_count": null,
   "id": "0329c3d0",
   "metadata": {},
   "outputs": [],
   "source": [
    "array = [[1, 3, 3], [2, 1, 2], [3, 2, 1]]\n",
    "\n",
    "# Sort the array according to a specific column using lambda\n",
    "sorted_array_col0 = sorted(array, key=lambda x: x[0])\n",
    "sorted_array_col1 = sorted(array, key=lambda x: x[1])\n",
    "sorted_array_col2 = sorted(array, key=lambda x: x[2])\n",
    "\n",
    "\n",
    "print(\"Sorted array specific to column 0:\", sorted_array_col0)\n",
    "print(\"Sorted array specific to column 1:\", sorted_array_col1)\n",
    "print(\"Sorted array specific to column 2:\", sorted_array_col2)"
   ]
  },
  {
   "cell_type": "code",
   "execution_count": null,
   "id": "eaacfcdc",
   "metadata": {},
   "outputs": [],
   "source": [
    "array = [[1, 3, 3], [2, 1, 2], [3, 2, 1]]\n",
    "\n",
    "sorted_arrays = []\n",
    "for i in range(len(array[0])):\n",
    "    sorted_arrays.append(sorted(array, key=lambda x: x[i]))\n",
    "\n",
    "for i, sorted_array in enumerate(sorted_arrays):\n",
    "    print(\"Sorted array specific to column\", i, \":\", sorted_array)"
   ]
  },
  {
   "cell_type": "markdown",
   "id": "f94d90a9",
   "metadata": {},
   "source": [
    "**40- write a program to Sort Python Dictionaries by Key or Value**\n",
    "\n",
    "**Input:**\n",
    "- **{'ravi': 10, 'rajnish': 9, 'sanjeev': 15, 'yash': 2, 'suraj': 32}**\n",
    "\n",
    "**Output:**\n",
    "- **{'rajnish': 9, 'ravi': 10, 'sanjeev': 15, 'suraj': 32, 'yash': 2}**"
   ]
  },
  {
   "cell_type": "code",
   "execution_count": null,
   "id": "ee81a4a9",
   "metadata": {},
   "outputs": [
    {
     "name": "stdout",
     "output_type": "stream",
     "text": [
      "{'rajnish': 9, 'ravi': 10, 'sanjeev': 15, 'suraj': 32, 'yash': 2}\n"
     ]
    }
   ],
   "source": [
    "# Sort the dictionary by key\n",
    "input_dict = {'ravi': 10, 'rajnish': 9, 'sanjeev': 15, 'yash': 2, 'suraj': 32}\n",
    "sorted_dict_by_key = dict(sorted(input_dict.items()))\n",
    "\n",
    "print(sorted_dict_by_key)"
   ]
  },
  {
   "cell_type": "code",
   "execution_count": null,
   "id": "296e893c",
   "metadata": {},
   "outputs": [],
   "source": [
    "# Sort the dictionary by value\n",
    "sorted_dict_by_value = dict(sorted(input_dict.items(), key=lambda item: item[1]))\n",
    "\n",
    "print(sorted_dict_by_value)"
   ]
  },
  {
   "cell_type": "markdown",
   "id": "c3b28eb4",
   "metadata": {},
   "source": [
    "**41-write python program to Remove keys with Values Greater than K ( Including mixed values )**\n",
    "\n",
    "- **input : test_dict = {‘Gfg’ : 3, ‘is’ : 7, ‘best’ : 10, ‘for’ : 6, ‘geeks’ : ‘CS’},**\n",
    "- **K = 7**\n",
    "- **Output : {‘Gfg’ : 3, ‘for’ : 6, ‘geeks’ : ‘CS’}**"
   ]
  },
  {
   "cell_type": "code",
   "execution_count": null,
   "id": "b68bbe11",
   "metadata": {},
   "outputs": [],
   "source": [
    "test_dict = {'Gfg': 3, 'is': 7, 'best': 10, 'for': 6, 'geeks': 'CS'}\n",
    "K = 7\n",
    "\n",
    "filtered_dict = {key: value for key, value in test_dict.items() if (isinstance(value, int) and value <= K)}\n",
    "\n",
    "print(\"Output:\", filtered_dict)"
   ]
  },
  {
   "cell_type": "markdown",
   "id": "50876e0c",
   "metadata": {},
   "source": [
    "**42-Write a Python program to concatenate the following dictionaries to create a new one**\n",
    "\n",
    "**Sample Dictionary:**\n",
    "- **dic1={1:10, 2:20}**\n",
    "- **dic2={3:30, 4:40}**\n",
    "- **dic3={5:50,6:60}**\n",
    "\n",
    "**Expected Result : {1: 10, 2: 20, 3: 30, 4: 40, 5: 50, 6: 60}**"
   ]
  },
  {
   "cell_type": "code",
   "execution_count": null,
   "id": "f0ca8496",
   "metadata": {},
   "outputs": [],
   "source": [
    "dic1 = {1: 10, 2: 20}\n",
    "dic2 = {3: 30, 4: 40}\n",
    "dic3 = {5: 50, 6: 60}\n",
    "\n",
    "# Concatenate dictionaries using the update() method\n",
    "result_dict = dic1.copy()\n",
    "result_dict.update(dic2)\n",
    "result_dict.update(dic3)\n",
    "\n",
    "print(result_dict)"
   ]
  },
  {
   "cell_type": "markdown",
   "id": "70624dc3",
   "metadata": {},
   "source": [
    "**43-Write a Python program to iterate over dictionaries using for loops**"
   ]
  },
  {
   "cell_type": "code",
   "execution_count": null,
   "id": "8401e305",
   "metadata": {},
   "outputs": [],
   "source": [
    "my_dict = {'a': 1, 'b': 2, 'c': 3}\n",
    "\n",
    "# Iterate over keys\n",
    "print(\"Iterating over keys:\")\n",
    "for key in my_dict:\n",
    "    print(key)\n",
    "\n",
    "# Iterate over values\n",
    "print(\"\\nIterating over values:\")\n",
    "for value in my_dict.values():\n",
    "    print(value)\n",
    "\n",
    "# Iterate over key-value pairs\n",
    "print(\"\\nIterating over key-value pairs:\")\n",
    "for key, value in my_dict.items():\n",
    "    print(key, \"->\", value)"
   ]
  },
  {
   "cell_type": "markdown",
   "id": "cb61a1b4",
   "metadata": {},
   "source": [
    "**44- Write a Python script to merge two Python dictionaries**"
   ]
  },
  {
   "cell_type": "code",
   "execution_count": null,
   "id": "43609fe7",
   "metadata": {},
   "outputs": [],
   "source": [
    "dict1 = {'a': 1, 'b': 2}\n",
    "dict2 = {'c': 3, 'd': 4}\n",
    "\n",
    "# Merge dict2 into dict1 using the update() method\n",
    "dict1.update(dict2)\n",
    "\n",
    "print(dict1)"
   ]
  },
  {
   "cell_type": "code",
   "execution_count": null,
   "id": "14e3624f",
   "metadata": {},
   "outputs": [],
   "source": [
    "# Merge dictionaries using dictionary unpacking\n",
    "merged_dict = {**dict1, **dict2}\n",
    "\n",
    "print(merged_dict)"
   ]
  },
  {
   "cell_type": "markdown",
   "id": "bb014c31",
   "metadata": {},
   "source": [
    "**45-Write a Python program to get the maximum and minimum values of a dictionary values**"
   ]
  },
  {
   "cell_type": "code",
   "execution_count": null,
   "id": "96c31821",
   "metadata": {},
   "outputs": [],
   "source": [
    "my_dict = {'a': 10, 'b': 20, 'c': 30, 'd': 5}\n",
    "\n",
    "max_value = max(my_dict.values())\n",
    "min_value = min(my_dict.values())\n",
    "\n",
    "print(max_value)\n",
    "print(min_value)"
   ]
  },
  {
   "cell_type": "markdown",
   "id": "545b6887",
   "metadata": {},
   "source": [
    "**46- Write a Python program to drop empty items from a given dictionary.**\n",
    "- **Original Dictionary: {'c1': 'Red', 'c2': 'Green', 'c3': None}**\n",
    "- **New Dictionary after dropping empty items: {'c1': 'Red', 'c2': 'Green'}**"
   ]
  },
  {
   "cell_type": "code",
   "execution_count": null,
   "id": "1f5f4b1c",
   "metadata": {},
   "outputs": [
    {
     "name": "stdout",
     "output_type": "stream",
     "text": [
      "{'c1': 'Red', 'c2': 'Green'}\n"
     ]
    }
   ],
   "source": [
    "original_dict = {'c1': 'Red', 'c2': 'Green', 'c3': None}\n",
    "\n",
    "new_dict = {key: value for key, value in original_dict.items() if value is not None}\n",
    "print(new_dict)"
   ]
  },
  {
   "cell_type": "markdown",
   "id": "826cadea",
   "metadata": {},
   "source": [
    "**47-Write a Python program to create a tuple of numbers and print one item**"
   ]
  },
  {
   "cell_type": "code",
   "execution_count": null,
   "id": "6e0b54ae",
   "metadata": {},
   "outputs": [
    {
     "name": "stdout",
     "output_type": "stream",
     "text": [
      "Item at index 2: 3\n"
     ]
    }
   ],
   "source": [
    "my_tuple = (1, 2, 3, 4, 5)\n",
    "\n",
    "print(\"Item at index 2:\", my_tuple[2])"
   ]
  },
  {
   "cell_type": "markdown",
   "id": "b456c2ea",
   "metadata": {},
   "source": [
    "**48-Write a Python program to unpack a tuple into several variables**"
   ]
  },
  {
   "cell_type": "code",
   "execution_count": null,
   "id": "0a7cc995",
   "metadata": {},
   "outputs": [],
   "source": [
    "my_tuple = (1, 2, 3)\n",
    "var1, var2, var3 = my_tuple\n",
    "\n",
    "print(\"var1:\", var1)\n",
    "print(\"var2:\", var2)\n",
    "print(\"var3:\", var3)"
   ]
  },
  {
   "cell_type": "markdown",
   "id": "6450655f",
   "metadata": {},
   "source": [
    "**49-Write a Python program to add an item to a tuple**"
   ]
  },
  {
   "cell_type": "code",
   "execution_count": null,
   "id": "4ab0e9c4",
   "metadata": {},
   "outputs": [],
   "source": [
    "original_tuple = (1, 2, 3)\n",
    "new_item = 4\n",
    "\n",
    "new_tuple = original_tuple + (new_item,)\n",
    "\n",
    "print(new_tuple)"
   ]
  },
  {
   "cell_type": "markdown",
   "id": "9ebb6a0b",
   "metadata": {},
   "source": [
    "**50-Write a Python program to convert a tuple to a string**"
   ]
  },
  {
   "cell_type": "code",
   "execution_count": null,
   "id": "cc55af7c",
   "metadata": {},
   "outputs": [],
   "source": [
    "my_tuple = ('a', 'b', 'c')\n",
    "string_from_tuple = ''.join(my_tuple)\n",
    "\n",
    "print(string_from_tuple)"
   ]
  },
  {
   "cell_type": "markdown",
   "id": "d7d81289",
   "metadata": {},
   "source": [
    "**51-Write a Python program to convert a list to a tuple**"
   ]
  },
  {
   "cell_type": "code",
   "execution_count": null,
   "id": "18efc424",
   "metadata": {},
   "outputs": [],
   "source": [
    "my_list = [1, 2, 3, 4, 5]\n",
    "tuple_from_list = tuple(my_list)\n",
    "\n",
    "print(tuple_from_list)"
   ]
  },
  {
   "cell_type": "markdown",
   "id": "98f0ab72",
   "metadata": {},
   "source": [
    "**52-Write a Python program to reverse a tuple**"
   ]
  },
  {
   "cell_type": "code",
   "execution_count": null,
   "id": "b1dc1be5",
   "metadata": {},
   "outputs": [],
   "source": [
    "my_tuple = (1, 2, 3, 4, 5)\n",
    "reversed_tuple = my_tuple[::-1]\n",
    "\n",
    "print(reversed_tuple)"
   ]
  },
  {
   "cell_type": "markdown",
   "id": "a1511f83",
   "metadata": {},
   "source": [
    "**53-Write a Python program to replace the last value of tuples in a list.**\n",
    "- **Sample list: [(10, 20, 40), (40, 50, 60), (70, 80, 90)]**\n",
    "- **Expected Output: [(10, 20, 100), (40, 50, 100), (70, 80, 100)]**"
   ]
  },
  {
   "cell_type": "code",
   "execution_count": null,
   "id": "17f8ffc6",
   "metadata": {},
   "outputs": [],
   "source": [
    "list_of_tuples = [(10, 20, 40), (40, 50, 60), (70, 80, 90)]\n",
    "replacement_value = 100\n",
    "\n",
    "modified_list = [(tuple(item[:-1]) + (replacement_value,)) for item in list_of_tuples]\n",
    "\n",
    "print(modified_list)"
   ]
  },
  {
   "cell_type": "markdown",
   "id": "7bc46686",
   "metadata": {},
   "source": [
    "**54-Write a Python program to convert a given string list to a tuple**\n",
    "\n",
    "- **Original string: \"python 3.0\" <class 'str'>**\n",
    "- **Convert the said string to a tuple: ('p', 'y', 't', 'h', 'o', 'n', '3', '.', '0')**"
   ]
  },
  {
   "cell_type": "code",
   "execution_count": null,
   "id": "213d2880",
   "metadata": {},
   "outputs": [
    {
     "name": "stdout",
     "output_type": "stream",
     "text": [
      "('p', 'y', 't', 'h', 'o', 'n', ' ', '3', '.', '0')\n"
     ]
    }
   ],
   "source": [
    "original_string = \"python 3.0\"\n",
    "tuple_from_string = tuple(original_string)\n",
    "\n",
    "print(tuple_from_string)"
   ]
  },
  {
   "cell_type": "markdown",
   "id": "fd479920",
   "metadata": {},
   "source": [
    "**55-Write a Python program to calculate the average value of the numbers in a given tuple of tuples**"
   ]
  },
  {
   "cell_type": "code",
   "execution_count": null,
   "id": "574638db",
   "metadata": {},
   "outputs": [],
   "source": [
    "tuple_of_tuples = ((1, 2, 3), (4, 5, 6), (7, 8, 9))\n",
    "numbers_list = [number for sublist in tuple_of_tuples for number in sublist]\n",
    "average_value = sum(numbers_list) / len(numbers_list)\n",
    "\n",
    "print(average_value)"
   ]
  },
  {
   "cell_type": "markdown",
   "id": "259a17a2",
   "metadata": {},
   "source": [
    "**56-Write a Python program to add member(s) to a set.**"
   ]
  },
  {
   "cell_type": "code",
   "execution_count": null,
   "id": "84b9e179",
   "metadata": {},
   "outputs": [],
   "source": [
    "my_set = {1, 2, 3}\n",
    "my_set.add(4)\n",
    "print(my_set)\n",
    "\n",
    "my_set.update({5, 6, 7})\n",
    "print(my_set)"
   ]
  },
  {
   "cell_type": "markdown",
   "id": "486ef629",
   "metadata": {},
   "source": [
    "**57-Write a Python program to remove an item from a set if it is present in the set.**"
   ]
  },
  {
   "cell_type": "code",
   "execution_count": null,
   "id": "170c02fd",
   "metadata": {},
   "outputs": [],
   "source": [
    "my_set = {1, 2, 3, 4, 5}\n",
    "my_set.discard(4)\n",
    "print(my_set)\n",
    "\n",
    "# Remove an item from the set if present (using remove)\n",
    "# This will raise an error if the item is not present\n",
    "try:\n",
    "    my_set.remove(2)\n",
    "    print(my_set)\n",
    "except KeyError:\n",
    "    print(\"Item is not present in the set.\")"
   ]
  },
  {
   "cell_type": "markdown",
   "id": "062f4b21",
   "metadata": {},
   "source": [
    "**58-Write a Python program to create an intersection,union,difference and symmetric difference of sets**"
   ]
  },
  {
   "cell_type": "code",
   "execution_count": null,
   "id": "5836c64c",
   "metadata": {},
   "outputs": [],
   "source": [
    "# Define two sets\n",
    "set1 = {1, 2, 3, 4, 5}\n",
    "set2 = {4, 5, 6, 7, 8}\n",
    "\n",
    "# Intersection\n",
    "intersection_set = set1.intersection(set2)\n",
    "print(\"Intersection:\", intersection_set)\n",
    "\n",
    "# Union\n",
    "union_set = set1.union(set2)\n",
    "print(\"Union:\", union_set)\n",
    "\n",
    "# Difference\n",
    "difference_set = set1.difference(set2)\n",
    "print(\"Difference (set1 - set2):\", difference_set)\n",
    "\n",
    "# Symmetric Difference\n",
    "symmetric_difference_set = set1.symmetric_difference(set2)\n",
    "print(\"Symmetric Difference:\", symmetric_difference_set)"
   ]
  },
  {
   "cell_type": "markdown",
   "id": "60180240",
   "metadata": {},
   "source": [
    "**59-Write a Python program to find the maximum and minimum values in a set**"
   ]
  },
  {
   "cell_type": "code",
   "execution_count": null,
   "id": "174cfc68",
   "metadata": {},
   "outputs": [],
   "source": [
    "# Define a set\n",
    "my_set = {10, 20, 30, 40, 50}\n",
    "\n",
    "# Find the maximum value\n",
    "max_value = max(my_set)\n",
    "\n",
    "# Find the minimum value\n",
    "min_value = min(my_set)\n",
    "\n",
    "# Print the maximum and minimum values\n",
    "print(\"Maximum value:\", max_value)\n",
    "print(\"Minimum value:\", min_value)"
   ]
  },
  {
   "cell_type": "markdown",
   "id": "8ff0b2e6",
   "metadata": {},
   "source": [
    "**60- Write a Python program that finds all pairs of elements in a list whose sum is equal to a given value.**"
   ]
  },
  {
   "cell_type": "code",
   "execution_count": null,
   "id": "1a556c10",
   "metadata": {},
   "outputs": [
    {
     "name": "stdout",
     "output_type": "stream",
     "text": [
      "Pairs with sum 7 : [(1, 6), (2, 5), (3, 4)]\n"
     ]
    }
   ],
   "source": [
    "def find_pairs_with_sum(lst, target_sum):\n",
    "    pairs = []\n",
    "    for i in range(len(lst)):\n",
    "        for j in range(i + 1, len(lst)):\n",
    "            if lst[i] + lst[j] == target_sum:\n",
    "                pairs.append((lst[i], lst[j]))\n",
    "    return pairs\n",
    "\n",
    "my_list = [1, 2, 3, 4, 5, 6]\n",
    "target = 7\n",
    "result = find_pairs_with_sum(my_list, target)\n",
    "print(\"Pairs with sum\", target, \":\", result)\n"
   ]
  },
  {
   "cell_type": "code",
   "execution_count": null,
   "id": "50867913",
   "metadata": {},
   "outputs": [],
   "source": []
  }
 ],
 "metadata": {
  "kernelspec": {
   "display_name": "Python 3 (ipykernel)",
   "language": "python",
   "name": "python3"
  },
  "language_info": {
   "codemirror_mode": {
    "name": "ipython",
    "version": 3
   },
   "file_extension": ".py",
   "mimetype": "text/x-python",
   "name": "python",
   "nbconvert_exporter": "python",
   "pygments_lexer": "ipython3",
   "version": "3.12.2"
  }
 },
 "nbformat": 4,
 "nbformat_minor": 5
}
