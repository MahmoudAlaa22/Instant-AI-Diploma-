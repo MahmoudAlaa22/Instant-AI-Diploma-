{
 "cells": [
  {
   "cell_type": "markdown",
   "metadata": {},
   "source": [
    "## A. Say Hello With C++\n",
    "Given a name S. Print \"Hello, (name)\" without parentheses.\n",
    "\n",
    "Input\n",
    "Only one line containing a string S.\n",
    "\n",
    "Output\n",
    "Print \"Hello, \" without quotes, then print name."
   ]
  },
  {
   "cell_type": "code",
   "execution_count": 25,
   "metadata": {},
   "outputs": [
    {
     "name": "stdout",
     "output_type": "stream",
     "text": [
      "Hello, programmer\n"
     ]
    }
   ],
   "source": [
    "n = input()\n",
    "print(f'Hello, {n}')"
   ]
  },
  {
   "cell_type": "markdown",
   "metadata": {},
   "source": [
    "## B. Basic Data Types\n",
    "The following lines show some C++ data types, their format specifiers and their most common bit widths:\n",
    "\n",
    "int : 32 Bit integer.\n",
    "long long : 64 bit integer\n",
    "Char : 8 bit Characters & symbols\n",
    "Float : 32 bit real value\n",
    "Double : 64 bit real value\n"
   ]
  },
  {
   "cell_type": "code",
   "execution_count": 26,
   "metadata": {},
   "outputs": [
    {
     "name": "stdout",
     "output_type": "stream",
     "text": [
      "3\n",
      "12345678912345\n",
      "a\n",
      "334.23\n",
      "14049.30493\n"
     ]
    }
   ],
   "source": [
    "a,b,c,d,e =map(str,input().split())\n",
    "print(a)\n",
    "print(b)\n",
    "print(c)\n",
    "print(d)\n",
    "print(e)"
   ]
  },
  {
   "cell_type": "markdown",
   "metadata": {},
   "source": [
    "## C Simple Calculator\n",
    "\n",
    "Given two numbers X and Y. Print the summation and multiplication and subtraction of these 2 numbers.\n",
    "\n",
    "Input\n",
    "Only one line containing two separated numbers X, Y (1  ≤  X, Y  ≤  105).\n",
    "\n",
    "Output\n",
    "Print 3 lines that contain the following in the same order:\n",
    "\n",
    "\"X + Y = summation result\" without quotes.\n",
    "\"X * Y = multiplication result\" without quotes.\n",
    "\"X - Y = subtraction result\" without quotes."
   ]
  },
  {
   "cell_type": "code",
   "execution_count": 1,
   "metadata": {},
   "outputs": [
    {
     "name": "stdout",
     "output_type": "stream",
     "text": [
      "5 + 10 = 15\n",
      "5 * 10 = 50\n",
      "5 - 10 = -5\n"
     ]
    }
   ],
   "source": [
    "\n",
    "x, y = map(int, input().split())\n",
    "\n",
    "summation = x + y\n",
    "multiplication = x * y\n",
    "subtraction = x - y\n",
    "\n",
    "print(f\"{x} + {y} = {summation}\")\n",
    "print(f\"{x} * {y} = {multiplication}\")\n",
    "print(f\"{x} - {y} = {subtraction}\")\n"
   ]
  },
  {
   "cell_type": "markdown",
   "metadata": {},
   "source": [
    "## D Difference\n",
    "Given four numbers A, B, C and D. Print the result of the following equation :\n",
    "\n",
    " X = (A * B) - (C * D).\n",
    "\n",
    "Input\n",
    "Only one line containing 4 separated numbers A, B, C and D ( - 105  ≤  A, B, C, D  ≤  105).\n",
    "\n",
    "Output\n",
    "Print \"Difference  =  \" without quotes followed by the equation result."
   ]
  },
  {
   "cell_type": "code",
   "execution_count": 2,
   "metadata": {},
   "outputs": [
    {
     "name": "stdout",
     "output_type": "stream",
     "text": [
      "Difference = -10\n"
     ]
    }
   ],
   "source": [
    "a, b, c, d= map(int, input().split())\n",
    "\n",
    "x = (a*b) - (c*d)\n",
    "print(f'Difference = {x}')"
   ]
  },
  {
   "cell_type": "markdown",
   "metadata": {},
   "source": [
    "## E\tArea of a Circle\n",
    "Given a number R calculate the area of a circle using the following formula:\n",
    "\n",
    "Area = π * R2.\n",
    "\n",
    "Note: consider π = 3.141592653.\n",
    "\n",
    "Input\n",
    "Only one line containing the number R (1  ≤  R  ≤  100).\n",
    "\n",
    "Output\n",
    "Print the calculated area, with 9 digits after the decimal point."
   ]
  },
  {
   "cell_type": "code",
   "execution_count": 4,
   "metadata": {},
   "outputs": [
    {
     "name": "stdout",
     "output_type": "stream",
     "text": [
      "12.566370612\n"
     ]
    }
   ],
   "source": [
    "\n",
    "pi = 3.141592653\n",
    "radius = float(input())\n",
    "\n",
    "area = pi * radius**2\n",
    "\n",
    "print(area)"
   ]
  },
  {
   "cell_type": "markdown",
   "metadata": {},
   "source": [
    "## F. Digits Summation\n",
    "Given two numbers N and M. Print the summation of their last digits.\n",
    "\n",
    "Input\n",
    "Only one line containing two numbers N, M (0 ≤ N, M ≤ 1018).\n",
    "\n",
    "Output\n",
    "Print the answer of the problem."
   ]
  },
  {
   "cell_type": "code",
   "execution_count": 13,
   "metadata": {},
   "outputs": [
    {
     "name": "stdout",
     "output_type": "stream",
     "text": [
      "3\n",
      "2\n",
      "5\n"
     ]
    }
   ],
   "source": [
    "a, b= map(str, input().split())\n",
    "\n",
    "print(int(a[-1]) + int(b[-1]))\n"
   ]
  },
  {
   "cell_type": "markdown",
   "metadata": {},
   "source": [
    "## G. Summation from 1 to N\n",
    "Given a number N\n",
    ". Print the summation of the numbers that is between 1 and N\n",
    " (inclusive).\n",
    "\n",
    ".∑i=1Ni\n",
    "Input\n",
    "Only one line containing a number N\n",
    " (1≤N≤109)\n",
    "Output\n",
    "Print the summation of the numbers that are between 1 and N\n",
    " (inclusive)."
   ]
  },
  {
   "cell_type": "code",
   "execution_count": 14,
   "metadata": {},
   "outputs": [
    {
     "name": "stdout",
     "output_type": "stream",
     "text": [
      "55\n"
     ]
    }
   ],
   "source": [
    "n = int(input())\n",
    "summation = n * (n + 1) // 2\n",
    "print(summation)"
   ]
  },
  {
   "cell_type": "markdown",
   "metadata": {},
   "source": [
    "## H. Two numbers\n",
    "Given 2 numbers A\n",
    " and B\n",
    ". Print floor, ceil and round of A/B\n",
    "\n",
    "Note:\n",
    "\n",
    "Floor: Is a mathematical function that takes a real number X\n",
    " and its output is the greatest integer less than or equal to X\n",
    ".\n",
    "Ceil: Is a mathematical function that takes a real number X\n",
    " and its output is the smallest integer larger than or equal to X\n",
    ".\n",
    "Round: Is a mathematical function that takes a real number X\n",
    " and its output is the closest integer to that number X\n",
    "."
   ]
  },
  {
   "cell_type": "code",
   "execution_count": 32,
   "metadata": {},
   "outputs": [
    {
     "name": "stdout",
     "output_type": "stream",
     "text": [
      "floor 10 / 6 = 1\n",
      "ceil 10 / 6 = 2\n",
      "round 10 / 6 = 2\n"
     ]
    }
   ],
   "source": [
    "import math\n",
    "\n",
    "a, b = map(int, input().split())\n",
    "\n",
    "floor_result = a // b\n",
    "ceil_result = math.ceil(a / b)\n",
    "round_result = round((a / b)+ 0.0005) \n",
    "\n",
    "print(f\"floor {a} / {b} = {floor_result}\")\n",
    "print(f\"ceil {a} / {b} = {ceil_result}\")\n",
    "print(f\"round {a} / {b} = {round_result}\")"
   ]
  },
  {
   "cell_type": "markdown",
   "metadata": {},
   "source": [
    "## I. Welcome for you with Conditions\n",
    "Given two numbers A and B. Print \"Yes\" if A is greater than or equal to B. Otherwise print \"No\".\n",
    "\n",
    "Input\n",
    "Only one line containing two numbers A and B (0  ≤  A, B  ≤  100).\n",
    "\n",
    "Output\n",
    "Print \"Yes\" or \"No\" according to the statement."
   ]
  },
  {
   "cell_type": "code",
   "execution_count": 35,
   "metadata": {},
   "outputs": [
    {
     "name": "stdout",
     "output_type": "stream",
     "text": [
      "No\n"
     ]
    }
   ],
   "source": [
    "a, b = map(int, input().split())\n",
    "\n",
    "if(a>= b):\n",
    "    print('Yes')\n",
    "else:\n",
    "    print('No')\n"
   ]
  },
  {
   "cell_type": "markdown",
   "metadata": {},
   "source": [
    "## J. Multiples\n",
    "Given two numbers A and B. Print \"Multiples\" if A is multiple of B or vice versa. Otherwise print \"No Multiples\".\n",
    "\n",
    "Input\n",
    "Only one line containing two numbers A, B (1  ≤  A, B  ≤  106)\n",
    "\n",
    "Output\n",
    "Print the \"Multiples\" or \"No Multiples\" corresponding to the read numbers.\n"
   ]
  },
  {
   "cell_type": "code",
   "execution_count": 39,
   "metadata": {},
   "outputs": [
    {
     "name": "stdout",
     "output_type": "stream",
     "text": [
      "Multiples\n"
     ]
    }
   ],
   "source": [
    "a, b = map(int, input().split())\n",
    "\n",
    "if(a%b == 0 or b%a == 0 ):\n",
    "    print('Multiples')\n",
    "else:\n",
    "    print('No Multiples')"
   ]
  },
  {
   "cell_type": "markdown",
   "metadata": {},
   "source": [
    "## K. Max and Min\n",
    "Given 3 numbers A, B and C, Print the minimum and the maximum numbers.\n",
    "\n",
    "Input\n",
    "Only one line containing 3 numbers A, B and C ( - 105 ≤ A, B, C ≤ 105)\n",
    "\n",
    "Output\n",
    "Print the minimum number followed by a single space then print the maximum number."
   ]
  },
  {
   "cell_type": "code",
   "execution_count": 41,
   "metadata": {},
   "outputs": [
    {
     "name": "stdout",
     "output_type": "stream",
     "text": [
      "-5 20\n"
     ]
    }
   ],
   "source": [
    "a, b,c = map(int, input().split())\n",
    "\n",
    "print(f'{min(a,b,c)} {max(a,b,c)}')"
   ]
  },
  {
   "cell_type": "markdown",
   "metadata": {},
   "source": [
    "## L. The Brothers\n",
    "Given two person names.\n",
    "\n",
    "Each person has {\"the first name\" + \"the second name\"}\n",
    "\n",
    "Determine whether they are brothers or not.\n",
    "\n",
    "Note: The two persons are brothers if they share the same second name.\n",
    "\n",
    "Input\n",
    "First line will contain two Strings F1, S1 which donates the first and second name of the 1st person.\n",
    "\n",
    "Second line will contain two Strings F2, S2 which donates the first and second name of the 2nd person.\n",
    "\n",
    "Output\n",
    "Print \"ARE Brothers\" if they are brothers otherwise print \"NOT\"."
   ]
  },
  {
   "cell_type": "code",
   "execution_count": 43,
   "metadata": {},
   "outputs": [
    {
     "name": "stdout",
     "output_type": "stream",
     "text": [
      "NOT\n"
     ]
    }
   ],
   "source": [
    "b1 = input()\n",
    "b2 = input()\n",
    "\n",
    "if(b1.split()[1] == b2.split()[1]):\n",
    "    print('ARE Brothers')\n",
    "else:\n",
    "    print('NOT')\n"
   ]
  },
  {
   "cell_type": "markdown",
   "metadata": {},
   "source": [
    "## M. Capital or Small or Digit\n",
    "Given a letter X. Determine whether X is Digit or Alphabet and if it is Alphabet determine if it is Capital Case or Small Case.\n",
    "\n",
    "Note:\n",
    "\n",
    "Digits in ASCII '0' = 48,'1' = 49 ....etc\n",
    "Capital letters in ASCII 'A' = 65, 'B' = 66 ....etc\n",
    "Small letters in ASCII 'a' = 97,'b' = 98 ....etc\n",
    "Input\n",
    "Only one line containing a character X which will be a capital or small letter or digit.\n",
    "\n",
    "Output\n",
    "Print a single line contains \"IS DIGIT\" if X is digit otherwise, print \"ALPHA\" in the first line followed by a new line that contains \"IS CAPITAL\" if X is a capital letter and \"IS SMALL\" if X is a small letter."
   ]
  },
  {
   "cell_type": "code",
   "execution_count": 47,
   "metadata": {},
   "outputs": [
    {
     "name": "stdout",
     "output_type": "stream",
     "text": [
      "\n",
      "ALPHA\n",
      "IS CAPITAL\n"
     ]
    }
   ],
   "source": [
    "def analyze_character(char): \n",
    "  if char.isdigit():\n",
    "    return \"IS DIGIT\", \"\"\n",
    "\n",
    "  if char.isalpha():\n",
    "    if ord(char) >= 65 and ord(char) <= 90:\n",
    "      return \"ALPHA\", \"IS CAPITAL\"\n",
    "    else:\n",
    "      return \"ALPHA\", \"IS SMALL\"\n",
    "\n",
    "  return \"\", \"INVALID CHARACTER\"\n",
    "\n",
    "char = input().strip()[0]\n",
    "\n",
    "alpha_result, case_result = analyze_character(char)\n",
    "if alpha_result:\n",
    "  print(alpha_result)\n",
    "  print(case_result)\n"
   ]
  },
  {
   "cell_type": "markdown",
   "metadata": {},
   "source": [
    "## N. Char\n",
    "Given a letter X. If the letter is lowercase print the letter after converting it from lowercase letter to uppercase letter. Otherwise print the letter after converting it from uppercase letter to lowercase letter\n",
    "\n",
    "Note : difference between 'a' and 'A' in ASCII is 32 .\n",
    "\n",
    "Input\n",
    "Only one line containing a character X which will be a capital or small letter.\n",
    "\n",
    "Output\n",
    "Print the answer to this problem.\n"
   ]
  },
  {
   "cell_type": "code",
   "execution_count": 3,
   "metadata": {},
   "outputs": [
    {
     "name": "stdout",
     "output_type": "stream",
     "text": [
      "A\n"
     ]
    }
   ],
   "source": [
    "n = input()\n",
    "if n.islower() :\n",
    "    print(n.upper())\n",
    "else:\n",
    "    print(n.lower()) "
   ]
  },
  {
   "cell_type": "markdown",
   "metadata": {},
   "source": [
    "## O. Calculator\n",
    "Given a mathematical expression. The expression will be one of the following expressions: A+B\n",
    ", A−B\n",
    ", A∗B\n",
    " and A/B\n",
    ".\n",
    "\n",
    "Print the result of the mathematical expression.\n",
    "\n",
    "Input\n",
    "Only one line contains A,S\n",
    " and B\n",
    " (1≤A,B≤104)\n",
    ", S\n",
    " is either (+,−,∗,/)\n",
    ".\n",
    "\n",
    "Output\n",
    "Print the result of the mathematical expression\n"
   ]
  },
  {
   "cell_type": "code",
   "execution_count": 45,
   "metadata": {},
   "outputs": [
    {
     "name": "stdout",
     "output_type": "stream",
     "text": [
      "10\n"
     ]
    }
   ],
   "source": [
    "import re\n",
    "\n",
    "def evaluate_expression(expression):\n",
    "\n",
    "  try:\n",
    "    pattern = r\"^\\s*(\\d+)\\s*([+\\-*/])\\s*(\\d+)\\s*$\"  # Regular expression to match A + B, A - B, etc.\n",
    "    match = re.match(pattern, expression)\n",
    "    \n",
    "    if not match:\n",
    "      raise ValueError(\"Invalid expression format. Must be A+B, A-B, A*B, or A/B.\")\n",
    "\n",
    "    operand1, operator, operand2 = match.groups()\n",
    "    \n",
    "    if operator == \"+\":\n",
    "      return int(operand1) + int(operand2)\n",
    "    elif operator == \"-\":\n",
    "      return int(operand1) - int(operand2)\n",
    "    elif operator == \"*\":\n",
    "      return int(operand1) * int(operand2)\n",
    "    elif operator == \"/\":\n",
    "      if int(operand2) == 0:\n",
    "        raise ValueError(\"Division by zero\")\n",
    "      return int(int(operand1) / int(operand2))\n",
    "    else:\n",
    "      raise ValueError(\"Invalid operator. Must be +, -, *, or /.\")\n",
    "  except ValueError as e:\n",
    "    print(f\"Error: {e}\")\n",
    "    return None\n",
    "\n",
    "expression = input()\n",
    "result = evaluate_expression(expression)\n",
    "\n",
    "if result is not None:\n",
    "  print(result)\n"
   ]
  },
  {
   "cell_type": "markdown",
   "metadata": {},
   "source": [
    "## P. First digit !\n",
    "Given a number X. Print \"EVEN\" if the first digit of X is even number. Otherwise print \"ODD\".\n",
    "\n",
    "For example: In 4569 the first digit is 4, the second digit is 5, the third digit is 6 and the fourth digit is 9.\n",
    "\n",
    "Input\n",
    "Only one line containing a number X (999 < X  ≤  9999)\n",
    "\n",
    "Output\n",
    "If the first digit is even print \"EVEN\" otherwise print \"ODD\"."
   ]
  },
  {
   "cell_type": "code",
   "execution_count": 47,
   "metadata": {},
   "outputs": [
    {
     "name": "stdout",
     "output_type": "stream",
     "text": [
      "ODD\n"
     ]
    }
   ],
   "source": [
    "n = input()\n",
    "if int(n[0]) % 2 == 0:\n",
    "    print('EVEN')\n",
    "else:\n",
    "    print('ODD') "
   ]
  },
  {
   "cell_type": "markdown",
   "metadata": {},
   "source": [
    "## Q. Coordinates of a Point\n",
    "Given two numbers X, Y which donate coordinates of a point in 2D plan. Determine in which quarter does it belong.\n",
    "\n",
    "Note:\n",
    "\n",
    "Print Q1, Q2, Q3, Q4 according to the quarter in which the point belongs to.\n",
    "Print \"Origem\" If the point is at the origin.\n",
    "Print \"Eixo X\" If the point is over X axis.\n",
    "Print \"Eixo Y\" if the point is over Y axis.\n",
    "\n",
    "Input\n",
    "Only one line containing two numbers X, Y ( - 1000 ≤ X, Y ≤ 1000).\n",
    "\n",
    "Output\n",
    "Print the answer to problem above."
   ]
  },
  {
   "cell_type": "code",
   "execution_count": 52,
   "metadata": {},
   "outputs": [
    {
     "name": "stdout",
     "output_type": "stream",
     "text": [
      "Eixo X\n"
     ]
    }
   ],
   "source": [
    "x,y = map(float,input().split())\n",
    "\n",
    "if x > 0 and y > 0:\n",
    "    print('Q1')\n",
    "elif x < 0 and y > 0:\n",
    "    print('Q2')\n",
    "elif x < 0 and y < 0:\n",
    "    print('Q3')\n",
    "elif x > 0 and y < 0:\n",
    "    print('Q4')\n",
    "elif (x > 0 or x< 0) and y == 0:\n",
    "    print('Eixo X')\n",
    "elif x == 0 and (y > 0 or y < 0):\n",
    "    print('Eixo Y')\n",
    "else:\n",
    "    print('Origem')"
   ]
  },
  {
   "cell_type": "markdown",
   "metadata": {},
   "source": [
    "## R. Age in Days\n",
    "Given a Number N corresponding to a person's age (in days). Print his age in years, months and days, followed by its respective message \"years\", \"months\", \"days\".\n",
    "\n",
    "Note: consider the whole year has 365 days and 30 days per month.\n",
    "\n",
    "Input\n",
    "Only one line containing a number N (0 ≤ N ≤ 106).\n",
    "\n",
    "Output\n",
    "Print the output, like the following examples."
   ]
  },
  {
   "cell_type": "code",
   "execution_count": 56,
   "metadata": {},
   "outputs": [
    {
     "name": "stdout",
     "output_type": "stream",
     "text": [
      "0 yrears\n",
      "1 months\n",
      "0 days\n"
     ]
    }
   ],
   "source": [
    "days = int(input())\n",
    "\n",
    "year = days // 365\n",
    "remaining_days = days % 365\n",
    "months = remaining_days // 30\n",
    "days = remaining_days % 30\n",
    "\n",
    "print(f'{year} years')\n",
    "print(f'{months} months')\n",
    "print(f'{days} days')"
   ]
  },
  {
   "cell_type": "markdown",
   "metadata": {},
   "source": [
    "## S. Interval\n",
    "Given a number X. Determine in which of the following intervals the number X belongs to:\n",
    "\n",
    "[0,25], (25,50], (50,75], (75,100]\n",
    "\n",
    "Note:\n",
    "\n",
    "if X belongs to any of the above intervals print \"Interval \" followed by the interval.\n",
    "if X does not belong to any of the above intervals print \"Out of Intervals\".\n",
    "The symbol '(' represents greater than.\n",
    "The symbol ')' represents smaller than.\n",
    "The symbol '[' represents greater than or equal.\n",
    "The symbol ']' represents smaller than or equal.\n",
    "For example:\n",
    "\n",
    "[0,25] indicates numbers between 0 and 25.0000, including both.\n",
    "\n",
    "(25,50] indicates numbers greater than 25: (25.00001) up to 50.0000000.\n",
    "\n",
    "Input\n",
    "Only one line containing a number X ( - 1000 ≤ X ≤ 1000).\n",
    "\n",
    "Output\n",
    "Print the answer to the problem above."
   ]
  },
  {
   "cell_type": "code",
   "execution_count": 63,
   "metadata": {},
   "outputs": [
    {
     "name": "stdout",
     "output_type": "stream",
     "text": [
      "Out of Intervals\n"
     ]
    }
   ],
   "source": [
    "def determine_interval(number):\n",
    "\n",
    "  if number >= 75 and number <= 100:\n",
    "    return \"Interval (75,100]\"\n",
    "  elif number>=0 and number <= 25:\n",
    "    return \"Interval [0,25]\"\n",
    "  elif number >= 25 and number <= 50:\n",
    "    return \"Interval (25,50]\"\n",
    "  elif number >= 50 and number <= 75:\n",
    "    return \"Interval (50,75]\"\n",
    "  else:\n",
    "    return \"Out of Intervals\"\n",
    "\n",
    "# Get user input\n",
    "try:\n",
    "  number = float(input())\n",
    "  interval = determine_interval(number)\n",
    "  print(interval)\n",
    "except ValueError:\n",
    "  print(\"Error: Invalid input. Please enter a number.\")\n"
   ]
  },
  {
   "cell_type": "markdown",
   "metadata": {},
   "source": [
    "## T. Sort Numbers\n",
    "Given three numbers A, B, C. Print these numbers in ascending order followed by a blank line and then the values in the sequence as they were read.\n",
    "\n",
    "Input\n",
    "Only one line containing three numbers A, B, C ( - 106  ≤  A, B, C  ≤  106)\n",
    "\n",
    "Output\n",
    "Print the values in ascending order followed by a blank line and then the values in the sequence as they were read."
   ]
  },
  {
   "cell_type": "code",
   "execution_count": 74,
   "metadata": {},
   "outputs": [
    {
     "name": "stdout",
     "output_type": "stream",
     "text": [
      "-2\n",
      "0\n",
      "10\n",
      "\n",
      "-2\n",
      "10\n",
      "0\n"
     ]
    }
   ],
   "source": [
    "a,b,c = map(int, input().split())\n",
    "\n",
    "l =[a,b,c] \n",
    "sorted_numbers = sorted(l)\n",
    "for number in sorted_numbers:\n",
    "    print(number)\n",
    "\n",
    "print('')\n",
    "\n",
    "for number in l:\n",
    "    print(number)"
   ]
  },
  {
   "cell_type": "markdown",
   "metadata": {},
   "source": [
    "## U. Float or int\n",
    "Given a number N\n",
    ". Determine whether N\n",
    " is float number or integer number.\n",
    "\n",
    "Note:\n",
    "\n",
    "If N\n",
    " is float number then print \"float\" followed by the integer part followed by decimal part separated by space.\n",
    "If N\n",
    " is integer number then print \"int\" followed by the integer part separated by space.\n",
    "For more clarification see the examples below.\n",
    "\n",
    "Input\n",
    "Only one line containing a number N\n",
    " (1≤N≤103)\n",
    "Output\n",
    "Print the answer required above."
   ]
  },
  {
   "cell_type": "code",
   "execution_count": 87,
   "metadata": {},
   "outputs": [
    {
     "name": "stdout",
     "output_type": "stream",
     "text": [
      "float 534 0.958\n"
     ]
    }
   ],
   "source": [
    "def determine_number_type(number):\n",
    "  integer_part = int(number)\n",
    "  decimal_part = number - integer_part\n",
    "  if decimal_part == 0.000:\n",
    "    return f\"int {int(number)}\"\n",
    "  else:\n",
    "    decimal_part = number - integer_part\n",
    "    # return \"float {} {}\".format(integer_part, decimal_part)\n",
    "    return f\"float {integer_part} {decimal_part:.5}\"\n",
    "\n",
    "# Get user inpuf\n",
    "try:\n",
    "  number = float(input())\n",
    "  result = determine_number_type(number)\n",
    "  print(result)\n",
    "except ValueError:\n",
    "  print(\"Error: Invalid input. Please enter a number.\")\n"
   ]
  },
  {
   "cell_type": "markdown",
   "metadata": {},
   "source": [
    "## V. Comparison\n",
    "Given a comparison symbol S between two numbers A and B. Determine whether it is Right or Wrong.\n",
    "\n",
    "The comparison is as follows: A < B, A > B, A = B.\n",
    "\n",
    "Where A, B are two integer numbers and S refers to the sign between them.\n",
    "\n",
    "Input\n",
    "Only one line containing A, S and B respectively (-100  ≤  A, B  ≤  100), S can be ('<', '>','=') without the quotes.\n",
    "\n",
    "Output\n",
    "Print \"Right\" if the comparison is true, \"Wrong\" otherwise."
   ]
  },
  {
   "cell_type": "code",
   "execution_count": 109,
   "metadata": {},
   "outputs": [
    {
     "name": "stdout",
     "output_type": "stream",
     "text": [
      "Input expression: -88 > -64\n",
      "Regular expression pattern: ^\\s*(-?\\d+(?:\\.\\d*)?)\\s*([><=])\\s*(-?\\d+(?:\\.\\d*)?)\\s*$\n",
      "Match found!\n",
      "Wrong\n"
     ]
    }
   ],
   "source": [
    "import re\n",
    "\n",
    "try:\n",
    "    expression = input()\n",
    "    pattern = r\"^\\s*(-?\\d+(?:\\.\\d*)?)\\s*([><=])\\s*(-?\\d+(?:\\.\\d*)?)\\s*$\" \n",
    "    match = re.match(pattern, expression)\n",
    "    \n",
    "    if match:\n",
    "        first_operand, operator, second_operand = map(str, match.groups())\n",
    "        \n",
    "        if operator == '>':\n",
    "            result = int(first_operand) > int(second_operand)\n",
    "        elif operator == '<':\n",
    "            result = int(first_operand) < int(second_operand)\n",
    "        else:  # operator == '='\n",
    "            result = int(first_operand) == int(second_operand)\n",
    "\n",
    "        print(\"Right\" if result else \"Wrong\")\n",
    "    else:\n",
    "        print(\"No match found for the input expression.\")\n",
    "except ValueError:\n",
    "    print(\"Invalid input. Please enter numbers and an operator (<, >, or =).\")\n"
   ]
  },
  {
   "cell_type": "markdown",
   "metadata": {},
   "source": [
    "## W. Mathematical Expression\n",
    "Given a mathematical expression. The expression will be one of the following expressions:\n",
    "\n",
    "A + B = C, A - B = C and A * B = C\n",
    "\n",
    "where A, B, C are three numbers, S is the sign between A and B, and Q the '=' sign\n",
    "\n",
    "Print \"Yes\" If the expression is Right , Otherwise print the right answer of the expression.\n",
    "\n",
    "Input\n",
    "Only one line containing the expression: A, S, B, Q, C respectively (0 ≤ A, B ≤ 100,  - 105 ≤ C ≤ 105) and S can be ('+', '-', '*') without the quotation.\n",
    "\n",
    "Output\n",
    "Output either \"Yes\" (without the quotation) or the right answer depending on the statement."
   ]
  },
  {
   "cell_type": "code",
   "execution_count": 7,
   "metadata": {},
   "outputs": [
    {
     "name": "stdout",
     "output_type": "stream",
     "text": [
      "2 * 10 = 19\n",
      "20\n"
     ]
    }
   ],
   "source": [
    "\n",
    "try:\n",
    "    expression = input()\n",
    "    a,s,b,q,c = map(str, expression.split())\n",
    "    if s == '+':\n",
    "        if int(a) + int(b) == int(c):\n",
    "            print('Yes')\n",
    "        else:\n",
    "            print(f'{int(a) + int(b)}')\n",
    "    elif s == '-':\n",
    "        if int(a) - int(b) == int(c):\n",
    "            print('Yes')\n",
    "        else:\n",
    "            print(f'{int(a) - int(b)}')\n",
    "    elif s == '*':\n",
    "        if int(a) * int(b) == int(c):\n",
    "            print('Yes')\n",
    "        else:\n",
    "            print(f'{int(a) * int(b)}')\n",
    "except ValueError:\n",
    "    print(\"Invalid input. Please enter numbers and an operator (<, >, or =).\")\n"
   ]
  },
  {
   "cell_type": "markdown",
   "metadata": {},
   "source": [
    "## X. Two intervals\n",
    "Given the boundaries of 2 intervals. Print the boundaries of their intersection.\n",
    "\n",
    "Note: Boundaries mean the two ends of an interval which are the starting number and the ending number.\n",
    "\n",
    "Input\n",
    "Only one line contains two intervals [l1,r1]\n",
    ", [l2,r2]\n",
    " where (1≤l1,l2,r1,r2≤109)\n",
    ", (l1≤r1,l2≤r2)\n",
    ".\n",
    "\n",
    "It's guaranteed that l1≤r1\n",
    " and l2≤r2\n",
    ".\n",
    "\n",
    "Output\n",
    "If there is an intersection between these 2 intervals print its boundaries , otherwise print -1."
   ]
  },
  {
   "cell_type": "code",
   "execution_count": 26,
   "metadata": {},
   "outputs": [
    {
     "name": "stdout",
     "output_type": "stream",
     "text": [
      "5 15\n"
     ]
    }
   ],
   "source": [
    "\n",
    "try:\n",
    "    expression = input()\n",
    "    l1,r1,l2,r2 = map(int, expression.split())\n",
    "    start = max(l1, l2)\n",
    "    end = min(r1, r2)\n",
    "    if start <= end:\n",
    "        print(start, end)\n",
    "    else:\n",
    "        print(\"-1\")\n",
    "    \n",
    "except ValueError:\n",
    "    print(\"Invalid input. Please enter numbers and an operator (<, >, or =).\")\n"
   ]
  },
  {
   "cell_type": "markdown",
   "metadata": {},
   "source": [
    "## Z. Hard Compare\n",
    "Given 4 numbers A,B,C\n",
    " and D\n",
    ". If AB\n",
    " > CD\n",
    " print \"YES\" otherwise, print \"NO\".\n",
    "\n",
    "Input\n",
    "Only one line containing 4 numbers A,B,C\n",
    " and D\n",
    " (1≤A,C≤107)\n",
    " , (1≤B,D≤1012)\n",
    "Output\n",
    "Print \"YES\" or \"NO\" according to the problem above."
   ]
  },
  {
   "cell_type": "code",
   "execution_count": 24,
   "metadata": {},
   "outputs": [
    {
     "name": "stdout",
     "output_type": "stream",
     "text": [
      "NO\n"
     ]
    }
   ],
   "source": [
    "from math import log\n",
    "try:\n",
    "    expression = input()\n",
    "    a,b,c,d = map(int, expression.split())\n",
    "    if b * log(a) > d *log(c):\n",
    "        print(\"YES\")\n",
    "    else:\n",
    "        print(\"NO\")\n",
    "except ValueError:\n",
    "    print(\"Invalid input. Please enter numbers and an operator (<, >, or =).\")\n"
   ]
  },
  {
   "cell_type": "markdown",
   "metadata": {},
   "source": []
  }
 ],
 "metadata": {
  "kernelspec": {
   "display_name": "Python 3",
   "language": "python",
   "name": "python3"
  },
  "language_info": {
   "codemirror_mode": {
    "name": "ipython",
    "version": 3
   },
   "file_extension": ".py",
   "mimetype": "text/x-python",
   "name": "python",
   "nbconvert_exporter": "python",
   "pygments_lexer": "ipython3",
   "version": "3.12.2"
  }
 },
 "nbformat": 4,
 "nbformat_minor": 2
}
